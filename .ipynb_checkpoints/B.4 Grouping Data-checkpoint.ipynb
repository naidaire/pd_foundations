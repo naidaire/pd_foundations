{
 "cells": [
  {
   "cell_type": "markdown",
   "metadata": {},
   "source": [
    "# Grouping Data\n",
    "\n",
    "In this chapter, you'll learn how to identify and split DataFrames by groups or categories for further aggregation or analysis. You'll also learn how to transform and filter your data, including how to detect outliers and impute missing values. Knowing how to effectively group data in pandas can be a seriously powerful addition to your data science toolbox.\n",
    "\n",
    "Categoricals and Groupby\n",
    "- Advantages of categorical data types\n",
    "- Grouping by Multiple Columns\n",
    "- Grouping by another series\n",
    "\n",
    "Groupby and Aggregation\n",
    "- Computing multiple aggregates of multiple columns\n",
    "- Aggregating on index levels/fields\n",
    "- Grouping on function of the index\n",
    "\n",
    "Groupby and Transformation\n",
    "- Detecting outliers with z-scores\n",
    "- Filling Missing Data (imputation) by group\n",
    "- Other transformations with .apply\n",
    "\n",
    "Groupby and filtering\n",
    "- Grouping and filtering with .apply()\n",
    "- Grouping and filtering with .filter()\n",
    "- Filtering and Grouping with .map()\n"
   ]
  },
  {
   "cell_type": "code",
   "execution_count": null,
   "metadata": {
    "collapsed": true
   },
   "outputs": [],
   "source": []
  }
 ],
 "metadata": {
  "kernelspec": {
   "display_name": "Python 3",
   "language": "python",
   "name": "python3"
  },
  "language_info": {
   "codemirror_mode": {
    "name": "ipython",
    "version": 3
   },
   "file_extension": ".py",
   "mimetype": "text/x-python",
   "name": "python",
   "nbconvert_exporter": "python",
   "pygments_lexer": "ipython3",
   "version": "3.6.3"
  }
 },
 "nbformat": 4,
 "nbformat_minor": 2
}
