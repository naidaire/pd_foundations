{
 "cells": [
  {
   "cell_type": "markdown",
   "metadata": {},
   "source": [
    "# Time Series Data in Pandas"
   ]
  },
  {
   "cell_type": "markdown",
   "metadata": {},
   "source": [
    "# Indexing Time Series Data\n",
    "\n",
    "Date Times in datetime objects.\n",
    "\n",
    "read_csv can read strings into datetimes.\n",
    "\n",
    "- Parse_dates = True\n",
    "- index_col = 'Date'\n",
    "    - very useful for datetime exploration\n",
    "    \n",
    "\n",
    "\n",
    "\n",
    "ISO 8601 format - yyyy-mm-dd hh:mm:ss\n",
    "\n",
    "Loc\n",
    "- sales.loc['2-1002-19 11:00:00', 'Company']"
   ]
  },
  {
   "cell_type": "code",
   "execution_count": 126,
   "metadata": {
    "collapsed": true
   },
   "outputs": [],
   "source": [
    "import pandas as pd\n",
    "import matplotlib.pyplot as plt\n",
    "\n",
    "sales = pd.read_csv('./data/sales-feb-2015.csv',\n",
    "                    parse_dates=True,\n",
    "                    index_col='Date')"
   ]
  },
  {
   "cell_type": "code",
   "execution_count": 44,
   "metadata": {},
   "outputs": [
    {
     "data": {
      "text/html": [
       "<div>\n",
       "<style>\n",
       "    .dataframe thead tr:only-child th {\n",
       "        text-align: right;\n",
       "    }\n",
       "\n",
       "    .dataframe thead th {\n",
       "        text-align: left;\n",
       "    }\n",
       "\n",
       "    .dataframe tbody tr th {\n",
       "        vertical-align: top;\n",
       "    }\n",
       "</style>\n",
       "<table border=\"1\" class=\"dataframe\">\n",
       "  <thead>\n",
       "    <tr style=\"text-align: right;\">\n",
       "      <th></th>\n",
       "      <th>Company</th>\n",
       "      <th>Product</th>\n",
       "      <th>Units</th>\n",
       "    </tr>\n",
       "    <tr>\n",
       "      <th>Date</th>\n",
       "      <th></th>\n",
       "      <th></th>\n",
       "      <th></th>\n",
       "    </tr>\n",
       "  </thead>\n",
       "  <tbody>\n",
       "    <tr>\n",
       "      <th>2015-02-26 08:57:45</th>\n",
       "      <td>Streeplex</td>\n",
       "      <td>Service</td>\n",
       "      <td>4</td>\n",
       "    </tr>\n",
       "    <tr>\n",
       "      <th>2015-02-16 12:09:19</th>\n",
       "      <td>Hooli</td>\n",
       "      <td>Software</td>\n",
       "      <td>10</td>\n",
       "    </tr>\n",
       "    <tr>\n",
       "      <th>2015-02-03 14:14:18</th>\n",
       "      <td>Initech</td>\n",
       "      <td>Software</td>\n",
       "      <td>13</td>\n",
       "    </tr>\n",
       "    <tr>\n",
       "      <th>2015-02-02 08:33:01</th>\n",
       "      <td>Hooli</td>\n",
       "      <td>Software</td>\n",
       "      <td>3</td>\n",
       "    </tr>\n",
       "    <tr>\n",
       "      <th>2015-02-25 00:29:00</th>\n",
       "      <td>Initech</td>\n",
       "      <td>Service</td>\n",
       "      <td>10</td>\n",
       "    </tr>\n",
       "  </tbody>\n",
       "</table>\n",
       "</div>"
      ],
      "text/plain": [
       "                       Company   Product  Units\n",
       "Date                                           \n",
       "2015-02-26 08:57:45  Streeplex   Service      4\n",
       "2015-02-16 12:09:19      Hooli  Software     10\n",
       "2015-02-03 14:14:18    Initech  Software     13\n",
       "2015-02-02 08:33:01      Hooli  Software      3\n",
       "2015-02-25 00:29:00    Initech   Service     10"
      ]
     },
     "execution_count": 44,
     "metadata": {},
     "output_type": "execute_result"
    }
   ],
   "source": [
    "sales.head()"
   ]
  },
  {
   "cell_type": "code",
   "execution_count": 46,
   "metadata": {},
   "outputs": [
    {
     "data": {
      "text/html": [
       "<div>\n",
       "<style>\n",
       "    .dataframe thead tr:only-child th {\n",
       "        text-align: right;\n",
       "    }\n",
       "\n",
       "    .dataframe thead th {\n",
       "        text-align: left;\n",
       "    }\n",
       "\n",
       "    .dataframe tbody tr th {\n",
       "        vertical-align: top;\n",
       "    }\n",
       "</style>\n",
       "<table border=\"1\" class=\"dataframe\">\n",
       "  <thead>\n",
       "    <tr style=\"text-align: right;\">\n",
       "      <th></th>\n",
       "      <th>Company</th>\n",
       "      <th>Product</th>\n",
       "      <th>Units</th>\n",
       "    </tr>\n",
       "    <tr>\n",
       "      <th>Date</th>\n",
       "      <th></th>\n",
       "      <th></th>\n",
       "      <th></th>\n",
       "    </tr>\n",
       "  </thead>\n",
       "  <tbody>\n",
       "    <tr>\n",
       "      <th>2015-02-26 08:57:45</th>\n",
       "      <td>Streeplex</td>\n",
       "      <td>Service</td>\n",
       "      <td>4</td>\n",
       "    </tr>\n",
       "    <tr>\n",
       "      <th>2015-02-16 12:09:19</th>\n",
       "      <td>Hooli</td>\n",
       "      <td>Software</td>\n",
       "      <td>10</td>\n",
       "    </tr>\n",
       "    <tr>\n",
       "      <th>2015-02-03 14:14:18</th>\n",
       "      <td>Initech</td>\n",
       "      <td>Software</td>\n",
       "      <td>13</td>\n",
       "    </tr>\n",
       "    <tr>\n",
       "      <th>2015-02-02 08:33:01</th>\n",
       "      <td>Hooli</td>\n",
       "      <td>Software</td>\n",
       "      <td>3</td>\n",
       "    </tr>\n",
       "    <tr>\n",
       "      <th>2015-02-25 00:29:00</th>\n",
       "      <td>Initech</td>\n",
       "      <td>Service</td>\n",
       "      <td>10</td>\n",
       "    </tr>\n",
       "    <tr>\n",
       "      <th>2015-02-05 01:53:06</th>\n",
       "      <td>Acme Coporation</td>\n",
       "      <td>Software</td>\n",
       "      <td>19</td>\n",
       "    </tr>\n",
       "    <tr>\n",
       "      <th>2015-02-09 08:57:30</th>\n",
       "      <td>Streeplex</td>\n",
       "      <td>Service</td>\n",
       "      <td>19</td>\n",
       "    </tr>\n",
       "    <tr>\n",
       "      <th>2015-02-11 20:03:08</th>\n",
       "      <td>Initech</td>\n",
       "      <td>Software</td>\n",
       "      <td>7</td>\n",
       "    </tr>\n",
       "    <tr>\n",
       "      <th>2015-02-04 21:52:45</th>\n",
       "      <td>Acme Coporation</td>\n",
       "      <td>Hardware</td>\n",
       "      <td>14</td>\n",
       "    </tr>\n",
       "    <tr>\n",
       "      <th>2015-02-09 13:09:55</th>\n",
       "      <td>Mediacore</td>\n",
       "      <td>Software</td>\n",
       "      <td>7</td>\n",
       "    </tr>\n",
       "    <tr>\n",
       "      <th>2015-02-07 22:58:10</th>\n",
       "      <td>Acme Coporation</td>\n",
       "      <td>Hardware</td>\n",
       "      <td>1</td>\n",
       "    </tr>\n",
       "    <tr>\n",
       "      <th>2015-02-11 22:50:44</th>\n",
       "      <td>Hooli</td>\n",
       "      <td>Software</td>\n",
       "      <td>4</td>\n",
       "    </tr>\n",
       "    <tr>\n",
       "      <th>2015-02-26 08:58:51</th>\n",
       "      <td>Streeplex</td>\n",
       "      <td>Service</td>\n",
       "      <td>1</td>\n",
       "    </tr>\n",
       "    <tr>\n",
       "      <th>2015-02-05 22:05:03</th>\n",
       "      <td>Hooli</td>\n",
       "      <td>Service</td>\n",
       "      <td>10</td>\n",
       "    </tr>\n",
       "    <tr>\n",
       "      <th>2015-02-04 15:36:29</th>\n",
       "      <td>Streeplex</td>\n",
       "      <td>Software</td>\n",
       "      <td>13</td>\n",
       "    </tr>\n",
       "    <tr>\n",
       "      <th>2015-02-19 16:02:58</th>\n",
       "      <td>Mediacore</td>\n",
       "      <td>Service</td>\n",
       "      <td>10</td>\n",
       "    </tr>\n",
       "    <tr>\n",
       "      <th>2015-02-19 10:59:33</th>\n",
       "      <td>Mediacore</td>\n",
       "      <td>Hardware</td>\n",
       "      <td>16</td>\n",
       "    </tr>\n",
       "    <tr>\n",
       "      <th>2015-02-02 20:54:49</th>\n",
       "      <td>Mediacore</td>\n",
       "      <td>Hardware</td>\n",
       "      <td>9</td>\n",
       "    </tr>\n",
       "    <tr>\n",
       "      <th>2015-02-21 05:01:26</th>\n",
       "      <td>Mediacore</td>\n",
       "      <td>Software</td>\n",
       "      <td>3</td>\n",
       "    </tr>\n",
       "    <tr>\n",
       "      <th>2015-02-21 20:41:47</th>\n",
       "      <td>Hooli</td>\n",
       "      <td>Hardware</td>\n",
       "      <td>3</td>\n",
       "    </tr>\n",
       "  </tbody>\n",
       "</table>\n",
       "</div>"
      ],
      "text/plain": [
       "                             Company   Product  Units\n",
       "Date                                                 \n",
       "2015-02-26 08:57:45        Streeplex   Service      4\n",
       "2015-02-16 12:09:19            Hooli  Software     10\n",
       "2015-02-03 14:14:18          Initech  Software     13\n",
       "2015-02-02 08:33:01            Hooli  Software      3\n",
       "2015-02-25 00:29:00          Initech   Service     10\n",
       "2015-02-05 01:53:06  Acme Coporation  Software     19\n",
       "2015-02-09 08:57:30        Streeplex   Service     19\n",
       "2015-02-11 20:03:08          Initech  Software      7\n",
       "2015-02-04 21:52:45  Acme Coporation  Hardware     14\n",
       "2015-02-09 13:09:55        Mediacore  Software      7\n",
       "2015-02-07 22:58:10  Acme Coporation  Hardware      1\n",
       "2015-02-11 22:50:44            Hooli  Software      4\n",
       "2015-02-26 08:58:51        Streeplex   Service      1\n",
       "2015-02-05 22:05:03            Hooli   Service     10\n",
       "2015-02-04 15:36:29        Streeplex  Software     13\n",
       "2015-02-19 16:02:58        Mediacore   Service     10\n",
       "2015-02-19 10:59:33        Mediacore  Hardware     16\n",
       "2015-02-02 20:54:49        Mediacore  Hardware      9\n",
       "2015-02-21 05:01:26        Mediacore  Software      3\n",
       "2015-02-21 20:41:47            Hooli  Hardware      3"
      ]
     },
     "execution_count": 46,
     "metadata": {},
     "output_type": "execute_result"
    }
   ],
   "source": [
    "# Sample loc\n",
    "\n",
    "# select specific date/time\n",
    "sales.loc['2015-02-16 12:09:19', 'Company']\n",
    "\n",
    "# Partial datetime string selection\n",
    "# select specific day\n",
    "sales.loc['2015-2-5']\n",
    "\n",
    "sales.loc['February 5, 2015']\n",
    "\n",
    "sales.loc['2015-Feb-5']\n",
    "\n",
    "# Select whole months\n",
    "sales.loc['2015-2']\n",
    "\n",
    "# select whole year\n",
    "sales.loc['2015']\n",
    "\n",
    "\n"
   ]
  },
  {
   "cell_type": "markdown",
   "metadata": {},
   "source": [
    "Slicing Using Dates/Times"
   ]
  },
  {
   "cell_type": "code",
   "execution_count": 47,
   "metadata": {},
   "outputs": [
    {
     "data": {
      "text/html": [
       "<div>\n",
       "<style>\n",
       "    .dataframe thead tr:only-child th {\n",
       "        text-align: right;\n",
       "    }\n",
       "\n",
       "    .dataframe thead th {\n",
       "        text-align: left;\n",
       "    }\n",
       "\n",
       "    .dataframe tbody tr th {\n",
       "        vertical-align: top;\n",
       "    }\n",
       "</style>\n",
       "<table border=\"1\" class=\"dataframe\">\n",
       "  <thead>\n",
       "    <tr style=\"text-align: right;\">\n",
       "      <th></th>\n",
       "      <th>Company</th>\n",
       "      <th>Product</th>\n",
       "      <th>Units</th>\n",
       "    </tr>\n",
       "    <tr>\n",
       "      <th>Date</th>\n",
       "      <th></th>\n",
       "      <th></th>\n",
       "      <th></th>\n",
       "    </tr>\n",
       "  </thead>\n",
       "  <tbody>\n",
       "    <tr>\n",
       "      <th>2015-02-16 12:09:19</th>\n",
       "      <td>Hooli</td>\n",
       "      <td>Software</td>\n",
       "      <td>10</td>\n",
       "    </tr>\n",
       "    <tr>\n",
       "      <th>2015-02-19 16:02:58</th>\n",
       "      <td>Mediacore</td>\n",
       "      <td>Service</td>\n",
       "      <td>10</td>\n",
       "    </tr>\n",
       "    <tr>\n",
       "      <th>2015-02-19 10:59:33</th>\n",
       "      <td>Mediacore</td>\n",
       "      <td>Hardware</td>\n",
       "      <td>16</td>\n",
       "    </tr>\n",
       "  </tbody>\n",
       "</table>\n",
       "</div>"
      ],
      "text/plain": [
       "                       Company   Product  Units\n",
       "Date                                           \n",
       "2015-02-16 12:09:19      Hooli  Software     10\n",
       "2015-02-19 16:02:58  Mediacore   Service     10\n",
       "2015-02-19 10:59:33  Mediacore  Hardware     16"
      ]
     },
     "execution_count": 47,
     "metadata": {},
     "output_type": "execute_result"
    }
   ],
   "source": [
    "sales.loc['2015-2-16':'2015-2-20']\n"
   ]
  },
  {
   "cell_type": "markdown",
   "metadata": {},
   "source": [
    "#### pd.to_datetime() object\n",
    "\n",
    "Changes text in  iso8601 format into datetime objects"
   ]
  },
  {
   "cell_type": "code",
   "execution_count": 48,
   "metadata": {
    "collapsed": true
   },
   "outputs": [],
   "source": [
    "evening_2_11 = pd.to_datetime(['2015-2-11'])"
   ]
  },
  {
   "cell_type": "markdown",
   "metadata": {},
   "source": [
    "#### Reindexing Dataframe\n",
    "\n",
    "provides a new index with matching data\n",
    "creates new dataframe\n",
    "\n",
    "Default = blank dates fill with NaN\n",
    "ffill = forwad fill NaN with data\n",
    "bfill = back fill NaN with data\n",
    "\n"
   ]
  },
  {
   "cell_type": "code",
   "execution_count": 49,
   "metadata": {
    "scrolled": true
   },
   "outputs": [
    {
     "ename": "ValueError",
     "evalue": "index must be monotonic increasing or decreasing",
     "output_type": "error",
     "traceback": [
      "\u001b[0;31m---------------------------------------------------------------------------\u001b[0m",
      "\u001b[0;31mValueError\u001b[0m                                Traceback (most recent call last)",
      "\u001b[0;32m<ipython-input-49-febc0d002d1b>\u001b[0m in \u001b[0;36m<module>\u001b[0;34m()\u001b[0m\n\u001b[1;32m      3\u001b[0m \u001b[0;31m# bfill = back fill\u001b[0m\u001b[0;34m\u001b[0m\u001b[0;34m\u001b[0m\u001b[0m\n\u001b[1;32m      4\u001b[0m \u001b[0;34m\u001b[0m\u001b[0m\n\u001b[0;32m----> 5\u001b[0;31m \u001b[0msales\u001b[0m\u001b[0;34m.\u001b[0m\u001b[0mreindex\u001b[0m\u001b[0;34m(\u001b[0m\u001b[0mevening_2_11\u001b[0m\u001b[0;34m,\u001b[0m \u001b[0mmethod\u001b[0m\u001b[0;34m=\u001b[0m\u001b[0;34m'ffill'\u001b[0m\u001b[0;34m)\u001b[0m\u001b[0;34m\u001b[0m\u001b[0m\n\u001b[0m\u001b[1;32m      6\u001b[0m \u001b[0;34m\u001b[0m\u001b[0m\n",
      "\u001b[0;32m~/anaconda3/lib/python3.6/site-packages/pandas/core/frame.py\u001b[0m in \u001b[0;36mreindex\u001b[0;34m(self, index, columns, **kwargs)\u001b[0m\n\u001b[1;32m   2731\u001b[0m     \u001b[0;32mdef\u001b[0m \u001b[0mreindex\u001b[0m\u001b[0;34m(\u001b[0m\u001b[0mself\u001b[0m\u001b[0;34m,\u001b[0m \u001b[0mindex\u001b[0m\u001b[0;34m=\u001b[0m\u001b[0;32mNone\u001b[0m\u001b[0;34m,\u001b[0m \u001b[0mcolumns\u001b[0m\u001b[0;34m=\u001b[0m\u001b[0;32mNone\u001b[0m\u001b[0;34m,\u001b[0m \u001b[0;34m**\u001b[0m\u001b[0mkwargs\u001b[0m\u001b[0;34m)\u001b[0m\u001b[0;34m:\u001b[0m\u001b[0;34m\u001b[0m\u001b[0m\n\u001b[1;32m   2732\u001b[0m         return super(DataFrame, self).reindex(index=index, columns=columns,\n\u001b[0;32m-> 2733\u001b[0;31m                                               **kwargs)\n\u001b[0m\u001b[1;32m   2734\u001b[0m \u001b[0;34m\u001b[0m\u001b[0m\n\u001b[1;32m   2735\u001b[0m     \u001b[0;34m@\u001b[0m\u001b[0mAppender\u001b[0m\u001b[0;34m(\u001b[0m\u001b[0m_shared_docs\u001b[0m\u001b[0;34m[\u001b[0m\u001b[0;34m'reindex_axis'\u001b[0m\u001b[0;34m]\u001b[0m \u001b[0;34m%\u001b[0m \u001b[0m_shared_doc_kwargs\u001b[0m\u001b[0;34m)\u001b[0m\u001b[0;34m\u001b[0m\u001b[0m\n",
      "\u001b[0;32m~/anaconda3/lib/python3.6/site-packages/pandas/core/generic.py\u001b[0m in \u001b[0;36mreindex\u001b[0;34m(self, *args, **kwargs)\u001b[0m\n\u001b[1;32m   2513\u001b[0m         \u001b[0;31m# perform the reindex on the axes\u001b[0m\u001b[0;34m\u001b[0m\u001b[0;34m\u001b[0m\u001b[0m\n\u001b[1;32m   2514\u001b[0m         return self._reindex_axes(axes, level, limit, tolerance, method,\n\u001b[0;32m-> 2515\u001b[0;31m                                   fill_value, copy).__finalize__(self)\n\u001b[0m\u001b[1;32m   2516\u001b[0m \u001b[0;34m\u001b[0m\u001b[0m\n\u001b[1;32m   2517\u001b[0m     def _reindex_axes(self, axes, level, limit, tolerance, method, fill_value,\n",
      "\u001b[0;32m~/anaconda3/lib/python3.6/site-packages/pandas/core/frame.py\u001b[0m in \u001b[0;36m_reindex_axes\u001b[0;34m(self, axes, level, limit, tolerance, method, fill_value, copy)\u001b[0m\n\u001b[1;32m   2677\u001b[0m         \u001b[0;32mif\u001b[0m \u001b[0mindex\u001b[0m \u001b[0;32mis\u001b[0m \u001b[0;32mnot\u001b[0m \u001b[0;32mNone\u001b[0m\u001b[0;34m:\u001b[0m\u001b[0;34m\u001b[0m\u001b[0m\n\u001b[1;32m   2678\u001b[0m             frame = frame._reindex_index(index, method, copy, level,\n\u001b[0;32m-> 2679\u001b[0;31m                                          fill_value, limit, tolerance)\n\u001b[0m\u001b[1;32m   2680\u001b[0m \u001b[0;34m\u001b[0m\u001b[0m\n\u001b[1;32m   2681\u001b[0m         \u001b[0;32mreturn\u001b[0m \u001b[0mframe\u001b[0m\u001b[0;34m\u001b[0m\u001b[0m\n",
      "\u001b[0;32m~/anaconda3/lib/python3.6/site-packages/pandas/core/frame.py\u001b[0m in \u001b[0;36m_reindex_index\u001b[0;34m(self, new_index, method, copy, level, fill_value, limit, tolerance)\u001b[0m\n\u001b[1;32m   2685\u001b[0m         new_index, indexer = self.index.reindex(new_index, method=method,\n\u001b[1;32m   2686\u001b[0m                                                 \u001b[0mlevel\u001b[0m\u001b[0;34m=\u001b[0m\u001b[0mlevel\u001b[0m\u001b[0;34m,\u001b[0m \u001b[0mlimit\u001b[0m\u001b[0;34m=\u001b[0m\u001b[0mlimit\u001b[0m\u001b[0;34m,\u001b[0m\u001b[0;34m\u001b[0m\u001b[0m\n\u001b[0;32m-> 2687\u001b[0;31m                                                 tolerance=tolerance)\n\u001b[0m\u001b[1;32m   2688\u001b[0m         return self._reindex_with_indexers({0: [new_index, indexer]},\n\u001b[1;32m   2689\u001b[0m                                            \u001b[0mcopy\u001b[0m\u001b[0;34m=\u001b[0m\u001b[0mcopy\u001b[0m\u001b[0;34m,\u001b[0m \u001b[0mfill_value\u001b[0m\u001b[0;34m=\u001b[0m\u001b[0mfill_value\u001b[0m\u001b[0;34m,\u001b[0m\u001b[0;34m\u001b[0m\u001b[0m\n",
      "\u001b[0;32m~/anaconda3/lib/python3.6/site-packages/pandas/core/indexes/base.py\u001b[0m in \u001b[0;36mreindex\u001b[0;34m(self, target, method, level, limit, tolerance)\u001b[0m\n\u001b[1;32m   2880\u001b[0m                     indexer = self.get_indexer(target, method=method,\n\u001b[1;32m   2881\u001b[0m                                                \u001b[0mlimit\u001b[0m\u001b[0;34m=\u001b[0m\u001b[0mlimit\u001b[0m\u001b[0;34m,\u001b[0m\u001b[0;34m\u001b[0m\u001b[0m\n\u001b[0;32m-> 2882\u001b[0;31m                                                tolerance=tolerance)\n\u001b[0m\u001b[1;32m   2883\u001b[0m                 \u001b[0;32melse\u001b[0m\u001b[0;34m:\u001b[0m\u001b[0;34m\u001b[0m\u001b[0m\n\u001b[1;32m   2884\u001b[0m                     \u001b[0;32mif\u001b[0m \u001b[0mmethod\u001b[0m \u001b[0;32mis\u001b[0m \u001b[0;32mnot\u001b[0m \u001b[0;32mNone\u001b[0m \u001b[0;32mor\u001b[0m \u001b[0mlimit\u001b[0m \u001b[0;32mis\u001b[0m \u001b[0;32mnot\u001b[0m \u001b[0;32mNone\u001b[0m\u001b[0;34m:\u001b[0m\u001b[0;34m\u001b[0m\u001b[0m\n",
      "\u001b[0;32m~/anaconda3/lib/python3.6/site-packages/pandas/core/indexes/base.py\u001b[0m in \u001b[0;36mget_indexer\u001b[0;34m(self, target, method, limit, tolerance)\u001b[0m\n\u001b[1;32m   2585\u001b[0m \u001b[0;34m\u001b[0m\u001b[0m\n\u001b[1;32m   2586\u001b[0m         \u001b[0;32mif\u001b[0m \u001b[0mmethod\u001b[0m \u001b[0;34m==\u001b[0m \u001b[0;34m'pad'\u001b[0m \u001b[0;32mor\u001b[0m \u001b[0mmethod\u001b[0m \u001b[0;34m==\u001b[0m \u001b[0;34m'backfill'\u001b[0m\u001b[0;34m:\u001b[0m\u001b[0;34m\u001b[0m\u001b[0m\n\u001b[0;32m-> 2587\u001b[0;31m             \u001b[0mindexer\u001b[0m \u001b[0;34m=\u001b[0m \u001b[0mself\u001b[0m\u001b[0;34m.\u001b[0m\u001b[0m_get_fill_indexer\u001b[0m\u001b[0;34m(\u001b[0m\u001b[0mtarget\u001b[0m\u001b[0;34m,\u001b[0m \u001b[0mmethod\u001b[0m\u001b[0;34m,\u001b[0m \u001b[0mlimit\u001b[0m\u001b[0;34m,\u001b[0m \u001b[0mtolerance\u001b[0m\u001b[0;34m)\u001b[0m\u001b[0;34m\u001b[0m\u001b[0m\n\u001b[0m\u001b[1;32m   2588\u001b[0m         \u001b[0;32melif\u001b[0m \u001b[0mmethod\u001b[0m \u001b[0;34m==\u001b[0m \u001b[0;34m'nearest'\u001b[0m\u001b[0;34m:\u001b[0m\u001b[0;34m\u001b[0m\u001b[0m\n\u001b[1;32m   2589\u001b[0m             \u001b[0mindexer\u001b[0m \u001b[0;34m=\u001b[0m \u001b[0mself\u001b[0m\u001b[0;34m.\u001b[0m\u001b[0m_get_nearest_indexer\u001b[0m\u001b[0;34m(\u001b[0m\u001b[0mtarget\u001b[0m\u001b[0;34m,\u001b[0m \u001b[0mlimit\u001b[0m\u001b[0;34m,\u001b[0m \u001b[0mtolerance\u001b[0m\u001b[0;34m)\u001b[0m\u001b[0;34m\u001b[0m\u001b[0m\n",
      "\u001b[0;32m~/anaconda3/lib/python3.6/site-packages/pandas/core/indexes/base.py\u001b[0m in \u001b[0;36m_get_fill_indexer\u001b[0;34m(self, target, method, limit, tolerance)\u001b[0m\n\u001b[1;32m   2611\u001b[0m         \u001b[0;32melse\u001b[0m\u001b[0;34m:\u001b[0m\u001b[0;34m\u001b[0m\u001b[0m\n\u001b[1;32m   2612\u001b[0m             indexer = self._get_fill_indexer_searchsorted(target, method,\n\u001b[0;32m-> 2613\u001b[0;31m                                                           limit)\n\u001b[0m\u001b[1;32m   2614\u001b[0m         \u001b[0;32mif\u001b[0m \u001b[0mtolerance\u001b[0m \u001b[0;32mis\u001b[0m \u001b[0;32mnot\u001b[0m \u001b[0;32mNone\u001b[0m\u001b[0;34m:\u001b[0m\u001b[0;34m\u001b[0m\u001b[0m\n\u001b[1;32m   2615\u001b[0m             indexer = self._filter_indexer_tolerance(target._values, indexer,\n",
      "\u001b[0;32m~/anaconda3/lib/python3.6/site-packages/pandas/core/indexes/base.py\u001b[0m in \u001b[0;36m_get_fill_indexer_searchsorted\u001b[0;34m(self, target, method, limit)\u001b[0m\n\u001b[1;32m   2632\u001b[0m         \u001b[0mnonexact\u001b[0m \u001b[0;34m=\u001b[0m \u001b[0;34m(\u001b[0m\u001b[0mindexer\u001b[0m \u001b[0;34m==\u001b[0m \u001b[0;34m-\u001b[0m\u001b[0;36m1\u001b[0m\u001b[0;34m)\u001b[0m\u001b[0;34m\u001b[0m\u001b[0m\n\u001b[1;32m   2633\u001b[0m         indexer[nonexact] = self._searchsorted_monotonic(target[nonexact],\n\u001b[0;32m-> 2634\u001b[0;31m                                                          side)\n\u001b[0m\u001b[1;32m   2635\u001b[0m         \u001b[0;32mif\u001b[0m \u001b[0mside\u001b[0m \u001b[0;34m==\u001b[0m \u001b[0;34m'left'\u001b[0m\u001b[0;34m:\u001b[0m\u001b[0;34m\u001b[0m\u001b[0m\n\u001b[1;32m   2636\u001b[0m             \u001b[0;31m# searchsorted returns \"indices into a sorted array such that,\u001b[0m\u001b[0;34m\u001b[0m\u001b[0;34m\u001b[0m\u001b[0m\n",
      "\u001b[0;32m~/anaconda3/lib/python3.6/site-packages/pandas/core/indexes/base.py\u001b[0m in \u001b[0;36m_searchsorted_monotonic\u001b[0;34m(self, label, side)\u001b[0m\n\u001b[1;32m   3441\u001b[0m             \u001b[0;32mreturn\u001b[0m \u001b[0mlen\u001b[0m\u001b[0;34m(\u001b[0m\u001b[0mself\u001b[0m\u001b[0;34m)\u001b[0m \u001b[0;34m-\u001b[0m \u001b[0mpos\u001b[0m\u001b[0;34m\u001b[0m\u001b[0m\n\u001b[1;32m   3442\u001b[0m \u001b[0;34m\u001b[0m\u001b[0m\n\u001b[0;32m-> 3443\u001b[0;31m         \u001b[0;32mraise\u001b[0m \u001b[0mValueError\u001b[0m\u001b[0;34m(\u001b[0m\u001b[0;34m'index must be monotonic increasing or decreasing'\u001b[0m\u001b[0;34m)\u001b[0m\u001b[0;34m\u001b[0m\u001b[0m\n\u001b[0m\u001b[1;32m   3444\u001b[0m \u001b[0;34m\u001b[0m\u001b[0m\n\u001b[1;32m   3445\u001b[0m     \u001b[0;32mdef\u001b[0m \u001b[0m_get_loc_only_exact_matches\u001b[0m\u001b[0;34m(\u001b[0m\u001b[0mself\u001b[0m\u001b[0;34m,\u001b[0m \u001b[0mkey\u001b[0m\u001b[0;34m)\u001b[0m\u001b[0;34m:\u001b[0m\u001b[0;34m\u001b[0m\u001b[0m\n",
      "\u001b[0;31mValueError\u001b[0m: index must be monotonic increasing or decreasing"
     ]
    }
   ],
   "source": [
    "# override default of fillinging with NaN\n",
    "# ffill = forward fill\n",
    "# bfill = back fill\n",
    "\n",
    "sales.reindex(evening_2_11, method='ffill')\n",
    "\n"
   ]
  },
  {
   "cell_type": "code",
   "execution_count": null,
   "metadata": {
    "collapsed": true
   },
   "outputs": [],
   "source": []
  },
  {
   "cell_type": "markdown",
   "metadata": {},
   "source": [
    "#### Creating and using a DatetimeIndex\n",
    "\n",
    "The pandas Index is a powerful way to handle time series data, so it is valuable to know how to build one yourself. Pandas provides the pd.to_datetime() function for just this task. For example, if passed the list of strings ['2015-01-01 091234','2015-01-01 091234'] and a format specification variable, such as format='%Y-%m-%d %H%M%S, pandas will parse the string into the proper datetime elements and build the datetime objects.\n",
    "\n",
    "In this exercise, a list of temperature data and a list of date strings has been pre-loaded for you as temperature_list and date_list respectively. Your job is to use the .to_datetime() method to build a DatetimeIndex out of the list of date strings, and to then use it along with the list of temperature data to build a pandas Series."
   ]
  },
  {
   "cell_type": "code",
   "execution_count": 50,
   "metadata": {
    "collapsed": true
   },
   "outputs": [],
   "source": [
    "import pandas as pd"
   ]
  },
  {
   "cell_type": "code",
   "execution_count": 51,
   "metadata": {
    "collapsed": true
   },
   "outputs": [],
   "source": [
    "temperature_list = [47.8,\n",
    "                 47.2,\n",
    "                 46.5,\n",
    "                 46.2,\n",
    "                 45.7,\n",
    "                 46.0,\n",
    "                 45.2,\n",
    "                 46.0,\n",
    "                 49.4,\n",
    "                 52.7,\n",
    "                 55.7,\n",
    "                 58.0,\n",
    "                 60.0,\n",
    "                 61.4,\n",
    "                 62.3]"
   ]
  },
  {
   "cell_type": "code",
   "execution_count": 52,
   "metadata": {
    "collapsed": true
   },
   "outputs": [],
   "source": [
    "date_list = ['20100211 01:00',\n",
    "             '20100211 02:00',\n",
    "             '20100211 03:00',\n",
    "             '20100211 04:00',\n",
    "             '20100211 05:00',\n",
    "             '20100211 06:00',\n",
    "             '20100211 07:00',\n",
    "             '20100211 08:00',\n",
    "             '20100211 09:00',\n",
    "             '20100211 10:00',\n",
    "             '20100211 11:00',\n",
    "             '20100211 12:00',\n",
    "             '20100211 13:00',\n",
    "             '20100211 14:00',\n",
    "             '20100211 15:00']"
   ]
  },
  {
   "cell_type": "markdown",
   "metadata": {},
   "source": [
    "Next to DataFrames, Series are another important object that pandas allows us to create, and they're very convenient for time series data"
   ]
  },
  {
   "cell_type": "code",
   "execution_count": 53,
   "metadata": {},
   "outputs": [],
   "source": [
    "# Prepare a format string: time_format\n",
    "time_format = '%Y-%m-%d %H:%M'\n",
    "\n",
    "# Convert date_list into a datetime object: my_datetimes\n",
    "my_datetimes = pd.to_datetime(date_list, format=time_format)  \n",
    "\n",
    "# Construct a pandas Series using temperature_list and my_datetimes: time_series\n",
    "time_series = pd.Series(temperature_list, index=my_datetimes)\n",
    "\n"
   ]
  },
  {
   "cell_type": "code",
   "execution_count": 54,
   "metadata": {},
   "outputs": [
    {
     "data": {
      "text/plain": [
       "2010-02-11 01:00:00    47.8\n",
       "2010-02-11 02:00:00    47.2\n",
       "2010-02-11 03:00:00    46.5\n",
       "2010-02-11 04:00:00    46.2\n",
       "2010-02-11 05:00:00    45.7\n",
       "2010-02-11 06:00:00    46.0\n",
       "2010-02-11 07:00:00    45.2\n",
       "2010-02-11 08:00:00    46.0\n",
       "2010-02-11 09:00:00    49.4\n",
       "2010-02-11 10:00:00    52.7\n",
       "2010-02-11 11:00:00    55.7\n",
       "2010-02-11 12:00:00    58.0\n",
       "2010-02-11 13:00:00    60.0\n",
       "2010-02-11 14:00:00    61.4\n",
       "2010-02-11 15:00:00    62.3\n",
       "dtype: float64"
      ]
     },
     "execution_count": 54,
     "metadata": {},
     "output_type": "execute_result"
    }
   ],
   "source": [
    "# series with datetime as index\n",
    "\n",
    "time_series"
   ]
  },
  {
   "cell_type": "code",
   "execution_count": null,
   "metadata": {
    "collapsed": true
   },
   "outputs": [],
   "source": []
  },
  {
   "cell_type": "markdown",
   "metadata": {},
   "source": [
    "#### Partial string indexing and slicing\n",
    "\n",
    "Pandas time series support \"partial string\" indexing. What this means is that even when passed only a portion of the datetime, such as the date but not the time, pandas is remarkably good at doing what one would expect. Pandas datetime indexing also supports a wide variety of commonly used datetime string formats, even when mixed.\n",
    "\n",
    "In this exercise, a time series that contains hourly weather data has been pre-loaded for you. This data was read using the parse_dates=True option in read_csv() with index_col=\"Dates\" so that the Index is indeed a DatetimeIndex.\n",
    "\n",
    "All data from the 'Temperature' column has been extracted into the variable ts0. Your job is to use a variety of natural date strings to extract one or more values from ts0.\n",
    "\n",
    "After you are done, you will have three new variables - ts1, ts2, and ts3. You can slice these further to extract only the first and last entries of each. Try doing this after your submission for more practice."
   ]
  },
  {
   "cell_type": "code",
   "execution_count": 55,
   "metadata": {
    "collapsed": true
   },
   "outputs": [],
   "source": [
    "weather = pd.read_csv('./data/weather_data_austin_2010.csv',\n",
    "                      parse_dates=True, index_col='Date')"
   ]
  },
  {
   "cell_type": "code",
   "execution_count": 56,
   "metadata": {},
   "outputs": [
    {
     "data": {
      "text/html": [
       "<div>\n",
       "<style>\n",
       "    .dataframe thead tr:only-child th {\n",
       "        text-align: right;\n",
       "    }\n",
       "\n",
       "    .dataframe thead th {\n",
       "        text-align: left;\n",
       "    }\n",
       "\n",
       "    .dataframe tbody tr th {\n",
       "        vertical-align: top;\n",
       "    }\n",
       "</style>\n",
       "<table border=\"1\" class=\"dataframe\">\n",
       "  <thead>\n",
       "    <tr style=\"text-align: right;\">\n",
       "      <th></th>\n",
       "      <th>Temperature</th>\n",
       "      <th>DewPoint</th>\n",
       "      <th>Pressure</th>\n",
       "    </tr>\n",
       "    <tr>\n",
       "      <th>Date</th>\n",
       "      <th></th>\n",
       "      <th></th>\n",
       "      <th></th>\n",
       "    </tr>\n",
       "  </thead>\n",
       "  <tbody>\n",
       "    <tr>\n",
       "      <th>2010-01-01 00:00:00</th>\n",
       "      <td>46.2</td>\n",
       "      <td>37.5</td>\n",
       "      <td>1.0</td>\n",
       "    </tr>\n",
       "    <tr>\n",
       "      <th>2010-01-01 01:00:00</th>\n",
       "      <td>44.6</td>\n",
       "      <td>37.1</td>\n",
       "      <td>1.0</td>\n",
       "    </tr>\n",
       "    <tr>\n",
       "      <th>2010-01-01 02:00:00</th>\n",
       "      <td>44.1</td>\n",
       "      <td>36.9</td>\n",
       "      <td>1.0</td>\n",
       "    </tr>\n",
       "    <tr>\n",
       "      <th>2010-01-01 03:00:00</th>\n",
       "      <td>43.8</td>\n",
       "      <td>36.9</td>\n",
       "      <td>1.0</td>\n",
       "    </tr>\n",
       "    <tr>\n",
       "      <th>2010-01-01 04:00:00</th>\n",
       "      <td>43.5</td>\n",
       "      <td>36.8</td>\n",
       "      <td>1.0</td>\n",
       "    </tr>\n",
       "  </tbody>\n",
       "</table>\n",
       "</div>"
      ],
      "text/plain": [
       "                     Temperature  DewPoint  Pressure\n",
       "Date                                                \n",
       "2010-01-01 00:00:00         46.2      37.5       1.0\n",
       "2010-01-01 01:00:00         44.6      37.1       1.0\n",
       "2010-01-01 02:00:00         44.1      36.9       1.0\n",
       "2010-01-01 03:00:00         43.8      36.9       1.0\n",
       "2010-01-01 04:00:00         43.5      36.8       1.0"
      ]
     },
     "execution_count": 56,
     "metadata": {},
     "output_type": "execute_result"
    }
   ],
   "source": [
    "weather.head()"
   ]
  },
  {
   "cell_type": "code",
   "execution_count": 57,
   "metadata": {},
   "outputs": [],
   "source": [
    "ts0 = weather.loc[:, 'Temperature']"
   ]
  },
  {
   "cell_type": "code",
   "execution_count": 58,
   "metadata": {},
   "outputs": [],
   "source": [
    "# Extract the hour from 9pm to 10pm on '2010-10-11': ts1\n",
    "ts1 = ts0.loc['2010-10-11 21:00:00':'2010-10-11 22:00:00']\n",
    "\n",
    "# Extract '2010-07-04' from ts0: ts2\n",
    "ts2 = ts0.loc['2010-07-04']\n",
    "\n",
    "# Extract data from '2010-12-15' to '2010-12-31': ts3\n",
    "ts3 = ts0.loc['2010-12-15':'2010-12-31']"
   ]
  },
  {
   "cell_type": "code",
   "execution_count": 59,
   "metadata": {},
   "outputs": [
    {
     "data": {
      "text/plain": [
       "Date\n",
       "2010-10-11 21:00:00    69.0\n",
       "2010-10-11 22:00:00    67.7\n",
       "Name: Temperature, dtype: float64"
      ]
     },
     "execution_count": 59,
     "metadata": {},
     "output_type": "execute_result"
    }
   ],
   "source": [
    "ts1"
   ]
  },
  {
   "cell_type": "code",
   "execution_count": 60,
   "metadata": {},
   "outputs": [
    {
     "data": {
      "text/plain": [
       "Date\n",
       "2010-07-04 00:00:00    77.6\n",
       "2010-07-04 01:00:00    76.3\n",
       "2010-07-04 02:00:00    75.5\n",
       "2010-07-04 03:00:00    74.9\n",
       "2010-07-04 04:00:00    74.6\n",
       "2010-07-04 05:00:00    74.2\n",
       "2010-07-04 06:00:00    74.4\n",
       "2010-07-04 07:00:00    76.0\n",
       "2010-07-04 08:00:00    79.0\n",
       "2010-07-04 09:00:00    81.8\n",
       "2010-07-04 10:00:00    84.6\n",
       "2010-07-04 11:00:00    86.8\n",
       "2010-07-04 12:00:00    88.9\n",
       "2010-07-04 13:00:00    90.1\n",
       "2010-07-04 14:00:00    91.1\n",
       "2010-07-04 15:00:00    91.6\n",
       "2010-07-04 16:00:00    91.5\n",
       "2010-07-04 17:00:00    90.7\n",
       "2010-07-04 18:00:00    89.5\n",
       "2010-07-04 19:00:00    87.3\n",
       "2010-07-04 20:00:00    84.0\n",
       "2010-07-04 21:00:00    81.8\n",
       "2010-07-04 22:00:00    80.0\n",
       "2010-07-04 23:00:00    78.5\n",
       "Name: Temperature, dtype: float64"
      ]
     },
     "execution_count": 60,
     "metadata": {},
     "output_type": "execute_result"
    }
   ],
   "source": [
    "ts2"
   ]
  },
  {
   "cell_type": "code",
   "execution_count": 61,
   "metadata": {},
   "outputs": [
    {
     "data": {
      "text/plain": [
       "Date\n",
       "2010-12-15 00:00:00    48.0\n",
       "2010-12-15 01:00:00    47.2\n",
       "2010-12-15 02:00:00    46.5\n",
       "2010-12-15 03:00:00    46.0\n",
       "2010-12-15 04:00:00    45.6\n",
       "2010-12-15 05:00:00    45.3\n",
       "2010-12-15 06:00:00    45.6\n",
       "2010-12-15 07:00:00    45.0\n",
       "2010-12-15 08:00:00    45.8\n",
       "2010-12-15 09:00:00    49.1\n",
       "2010-12-15 10:00:00    52.2\n",
       "2010-12-15 11:00:00    54.9\n",
       "2010-12-15 12:00:00    57.2\n",
       "2010-12-15 13:00:00    58.9\n",
       "2010-12-15 14:00:00    60.2\n",
       "2010-12-15 15:00:00    60.9\n",
       "2010-12-15 16:00:00    60.5\n",
       "2010-12-15 17:00:00    59.1\n",
       "2010-12-15 18:00:00    55.8\n",
       "2010-12-15 19:00:00    52.5\n",
       "2010-12-15 20:00:00    50.7\n",
       "2010-12-15 21:00:00    49.6\n",
       "2010-12-15 22:00:00    48.6\n",
       "2010-12-15 23:00:00    47.7\n",
       "2010-12-16 00:00:00    47.6\n",
       "2010-12-16 01:00:00    46.7\n",
       "2010-12-16 02:00:00    46.1\n",
       "2010-12-16 03:00:00    45.6\n",
       "2010-12-16 04:00:00    45.2\n",
       "2010-12-16 05:00:00    44.8\n",
       "                       ... \n",
       "2010-12-30 18:00:00    54.1\n",
       "2010-12-30 19:00:00    50.9\n",
       "2010-12-30 20:00:00    49.0\n",
       "2010-12-30 21:00:00    47.9\n",
       "2010-12-30 22:00:00    46.9\n",
       "2010-12-30 23:00:00    46.1\n",
       "2010-12-31 00:00:00    46.1\n",
       "2010-12-31 01:00:00    44.5\n",
       "2010-12-31 02:00:00    44.1\n",
       "2010-12-31 03:00:00    43.7\n",
       "2010-12-31 04:00:00    43.5\n",
       "2010-12-31 05:00:00    42.9\n",
       "2010-12-31 06:00:00    43.0\n",
       "2010-12-31 07:00:00    42.2\n",
       "2010-12-31 08:00:00    42.5\n",
       "2010-12-31 09:00:00    46.0\n",
       "2010-12-31 10:00:00    49.4\n",
       "2010-12-31 11:00:00    52.4\n",
       "2010-12-31 12:00:00    54.7\n",
       "2010-12-31 13:00:00    56.9\n",
       "2010-12-31 14:00:00    58.2\n",
       "2010-12-31 15:00:00    58.8\n",
       "2010-12-31 16:00:00    58.8\n",
       "2010-12-31 17:00:00    57.6\n",
       "2010-12-31 18:00:00    54.3\n",
       "2010-12-31 19:00:00    51.1\n",
       "2010-12-31 20:00:00    49.0\n",
       "2010-12-31 21:00:00    47.9\n",
       "2010-12-31 22:00:00    46.9\n",
       "2010-12-31 23:00:00    46.2\n",
       "Name: Temperature, Length: 408, dtype: float64"
      ]
     },
     "execution_count": 61,
     "metadata": {},
     "output_type": "execute_result"
    }
   ],
   "source": [
    "ts3"
   ]
  },
  {
   "cell_type": "code",
   "execution_count": null,
   "metadata": {
    "collapsed": true
   },
   "outputs": [],
   "source": []
  },
  {
   "cell_type": "markdown",
   "metadata": {},
   "source": [
    "#### Reindexing the Index\n",
    "\n",
    "Reindexing is useful in preparation for adding or otherwise combining two time series data sets. To reindex the data, we provide a new index and ask pandas to try and match the old data to the new index. If data is unavailable for one of the new index dates or times, you must tell pandas how to fill it in. Otherwise, pandas will fill with NaN by default.\n",
    "\n",
    "In this exercise, two time series data sets containing daily data have been pre-loaded for you, each indexed by dates. The first, ts1, includes weekends, but the second, ts2, does not. The goal is to combine the two data sets in a sensible way. Your job is to reindex the second data set so that it has weekends as well, and then add it to the first. When you are done, it would be informative to inspect your results."
   ]
  },
  {
   "cell_type": "markdown",
   "metadata": {},
   "source": [
    "- Create a new time series ts3 by reindexing ts2 with the index of ts1. To do this, call .reindex() on ts2 and pass in the index of ts1 (ts1.index).\n",
    "- Create another new time series, ts4, by calling the same .reindex() as above, but also specifiying a fill method, using the keyword argument method=\"ffill\" to forward-fill values.\n",
    "- Add ts1 + ts2. Assign the result to sum12.\n",
    "- Add ts1 + ts3. Assign the result to sum13.\n",
    "- Add ts1 + ts4, Assign the result to sum14."
   ]
  },
  {
   "cell_type": "code",
   "execution_count": 62,
   "metadata": {
    "collapsed": true
   },
   "outputs": [],
   "source": [
    "# Reindex without fill method: ts3\n",
    "ts3 = ts2.reindex(ts1.index)\n",
    "\n",
    "# Reindex with fill method, using forward fill: ts4\n",
    "ts4 = ts2.reindex(ts1.index, method='ffill')\n",
    "\n",
    "# Combine ts1 + ts2: sum12\n",
    "sum12 = ts1 + ts2\n",
    "\n",
    "# Combine ts1 + ts3: sum13\n",
    "sum13 = ts1 + ts3\n",
    "\n",
    "# Combine ts1 + ts4: sum14\n",
    "sum14 = ts1 + ts4"
   ]
  },
  {
   "cell_type": "code",
   "execution_count": 63,
   "metadata": {},
   "outputs": [
    {
     "data": {
      "text/plain": [
       "Date\n",
       "2010-07-04 00:00:00   NaN\n",
       "2010-07-04 01:00:00   NaN\n",
       "2010-07-04 02:00:00   NaN\n",
       "2010-07-04 03:00:00   NaN\n",
       "2010-07-04 04:00:00   NaN\n",
       "2010-07-04 05:00:00   NaN\n",
       "2010-07-04 06:00:00   NaN\n",
       "2010-07-04 07:00:00   NaN\n",
       "2010-07-04 08:00:00   NaN\n",
       "2010-07-04 09:00:00   NaN\n",
       "2010-07-04 10:00:00   NaN\n",
       "2010-07-04 11:00:00   NaN\n",
       "2010-07-04 12:00:00   NaN\n",
       "2010-07-04 13:00:00   NaN\n",
       "2010-07-04 14:00:00   NaN\n",
       "2010-07-04 15:00:00   NaN\n",
       "2010-07-04 16:00:00   NaN\n",
       "2010-07-04 17:00:00   NaN\n",
       "2010-07-04 18:00:00   NaN\n",
       "2010-07-04 19:00:00   NaN\n",
       "2010-07-04 20:00:00   NaN\n",
       "2010-07-04 21:00:00   NaN\n",
       "2010-07-04 22:00:00   NaN\n",
       "2010-07-04 23:00:00   NaN\n",
       "2010-10-11 21:00:00   NaN\n",
       "2010-10-11 22:00:00   NaN\n",
       "Name: Temperature, dtype: float64"
      ]
     },
     "execution_count": 63,
     "metadata": {},
     "output_type": "execute_result"
    }
   ],
   "source": [
    "sum12"
   ]
  },
  {
   "cell_type": "markdown",
   "metadata": {},
   "source": [
    "Understanding how indexing and reindexing works is a valuable skill.\n",
    "\n"
   ]
  },
  {
   "cell_type": "code",
   "execution_count": null,
   "metadata": {
    "collapsed": true
   },
   "outputs": [],
   "source": []
  },
  {
   "cell_type": "code",
   "execution_count": null,
   "metadata": {
    "collapsed": true
   },
   "outputs": [],
   "source": []
  },
  {
   "cell_type": "markdown",
   "metadata": {},
   "source": [
    "# Resampling Time Series Data\n",
    "\n",
    "Use Statistical methods computed over different time intervals.\n",
    "- Mean, Sum, Count, etc..\n",
    "- Aggregating Means\n",
    "- D = Daily\n",
    "- Method Chaining - chain with the Mean method.  Best practice to chain a statistic\n",
    "\n",
    "Downsampling\n",
    "- reduce datetime rows to slower frequency\n",
    "- going from Daily to Weekly\n",
    "\n",
    "Upsampling\n",
    "- increase datetime rows to faster frequency\n",
    "- going from Daily to Hourly\n",
    "- chain ffill() or bfill()\n",
    "\n",
    "Common Resampling intervals:\n",
    "- 'min', 'T' = minute\n",
    "- 'H'\n",
    "- 'D'\n",
    "- 'B' = Business Day\n",
    "- 'W'\n",
    "- 'M' \n",
    "- 'Q'\n",
    "- 'A'\n",
    "\n",
    "You can use multiple freqencies with integers\n",
    "- for example, '2W' = resample every 2 week intervals\n",
    "\n",
    "Rolling Method\n",
    "- very similar to Moving Averages\n",
    "- rolling()\n",
    "- you must always use method chaining, first calling .rolling() and then chaining an aggregation method after it. \n",
    "    - For example, with a Series hourly_data, hourly_data.rolling(window=24).mean() would compute new values for each hourly point, based on a 24-hour window stretching out behind each point. The frequency of the output data is the same: it is still hourly. Such an operation is useful for smoothing time series data."
   ]
  },
  {
   "cell_type": "code",
   "execution_count": 81,
   "metadata": {},
   "outputs": [
    {
     "data": {
      "text/html": [
       "<div>\n",
       "<style>\n",
       "    .dataframe thead tr:only-child th {\n",
       "        text-align: right;\n",
       "    }\n",
       "\n",
       "    .dataframe thead th {\n",
       "        text-align: left;\n",
       "    }\n",
       "\n",
       "    .dataframe tbody tr th {\n",
       "        vertical-align: top;\n",
       "    }\n",
       "</style>\n",
       "<table border=\"1\" class=\"dataframe\">\n",
       "  <thead>\n",
       "    <tr style=\"text-align: right;\">\n",
       "      <th></th>\n",
       "      <th>Company</th>\n",
       "      <th>Product</th>\n",
       "      <th>Units</th>\n",
       "    </tr>\n",
       "    <tr>\n",
       "      <th>Date</th>\n",
       "      <th></th>\n",
       "      <th></th>\n",
       "      <th></th>\n",
       "    </tr>\n",
       "  </thead>\n",
       "  <tbody>\n",
       "    <tr>\n",
       "      <th>2015-02-26 08:57:45</th>\n",
       "      <td>Streeplex</td>\n",
       "      <td>Service</td>\n",
       "      <td>4</td>\n",
       "    </tr>\n",
       "    <tr>\n",
       "      <th>2015-02-16 12:09:19</th>\n",
       "      <td>Hooli</td>\n",
       "      <td>Software</td>\n",
       "      <td>10</td>\n",
       "    </tr>\n",
       "    <tr>\n",
       "      <th>2015-02-03 14:14:18</th>\n",
       "      <td>Initech</td>\n",
       "      <td>Software</td>\n",
       "      <td>13</td>\n",
       "    </tr>\n",
       "    <tr>\n",
       "      <th>2015-02-02 08:33:01</th>\n",
       "      <td>Hooli</td>\n",
       "      <td>Software</td>\n",
       "      <td>3</td>\n",
       "    </tr>\n",
       "    <tr>\n",
       "      <th>2015-02-25 00:29:00</th>\n",
       "      <td>Initech</td>\n",
       "      <td>Service</td>\n",
       "      <td>10</td>\n",
       "    </tr>\n",
       "  </tbody>\n",
       "</table>\n",
       "</div>"
      ],
      "text/plain": [
       "                       Company   Product  Units\n",
       "Date                                           \n",
       "2015-02-26 08:57:45  Streeplex   Service      4\n",
       "2015-02-16 12:09:19      Hooli  Software     10\n",
       "2015-02-03 14:14:18    Initech  Software     13\n",
       "2015-02-02 08:33:01      Hooli  Software      3\n",
       "2015-02-25 00:29:00    Initech   Service     10"
      ]
     },
     "execution_count": 81,
     "metadata": {},
     "output_type": "execute_result"
    }
   ],
   "source": [
    "sales.head()"
   ]
  },
  {
   "cell_type": "markdown",
   "metadata": {},
   "source": [
    "## Downsampling"
   ]
  },
  {
   "cell_type": "code",
   "execution_count": 82,
   "metadata": {},
   "outputs": [
    {
     "data": {
      "text/html": [
       "<div>\n",
       "<style>\n",
       "    .dataframe thead tr:only-child th {\n",
       "        text-align: right;\n",
       "    }\n",
       "\n",
       "    .dataframe thead th {\n",
       "        text-align: left;\n",
       "    }\n",
       "\n",
       "    .dataframe tbody tr th {\n",
       "        vertical-align: top;\n",
       "    }\n",
       "</style>\n",
       "<table border=\"1\" class=\"dataframe\">\n",
       "  <thead>\n",
       "    <tr style=\"text-align: right;\">\n",
       "      <th></th>\n",
       "      <th>Units</th>\n",
       "    </tr>\n",
       "    <tr>\n",
       "      <th>Date</th>\n",
       "      <th></th>\n",
       "    </tr>\n",
       "  </thead>\n",
       "  <tbody>\n",
       "    <tr>\n",
       "      <th>2015-02-02</th>\n",
       "      <td>6.0</td>\n",
       "    </tr>\n",
       "    <tr>\n",
       "      <th>2015-02-03</th>\n",
       "      <td>13.0</td>\n",
       "    </tr>\n",
       "    <tr>\n",
       "      <th>2015-02-04</th>\n",
       "      <td>13.5</td>\n",
       "    </tr>\n",
       "    <tr>\n",
       "      <th>2015-02-05</th>\n",
       "      <td>14.5</td>\n",
       "    </tr>\n",
       "    <tr>\n",
       "      <th>2015-02-06</th>\n",
       "      <td>NaN</td>\n",
       "    </tr>\n",
       "  </tbody>\n",
       "</table>\n",
       "</div>"
      ],
      "text/plain": [
       "            Units\n",
       "Date             \n",
       "2015-02-02    6.0\n",
       "2015-02-03   13.0\n",
       "2015-02-04   13.5\n",
       "2015-02-05   14.5\n",
       "2015-02-06    NaN"
      ]
     },
     "execution_count": 82,
     "metadata": {},
     "output_type": "execute_result"
    }
   ],
   "source": [
    "# Returns Daily frequency with the average # of unit sold each day\n",
    "# Aggregating Means\n",
    "# D = Daily\n",
    "# Chained with the Mean method.  Best practice to chain a statistic\n",
    "\n",
    "daily_mean = sales.resample('D').mean()\n",
    "\n",
    "daily_mean.head()"
   ]
  },
  {
   "cell_type": "markdown",
   "metadata": {},
   "source": [
    "Notice missing days are filled with NaN - this can be changed"
   ]
  },
  {
   "cell_type": "code",
   "execution_count": 83,
   "metadata": {},
   "outputs": [
    {
     "data": {
      "text/html": [
       "<div>\n",
       "<style>\n",
       "    .dataframe thead tr:only-child th {\n",
       "        text-align: right;\n",
       "    }\n",
       "\n",
       "    .dataframe thead th {\n",
       "        text-align: left;\n",
       "    }\n",
       "\n",
       "    .dataframe tbody tr th {\n",
       "        vertical-align: top;\n",
       "    }\n",
       "</style>\n",
       "<table border=\"1\" class=\"dataframe\">\n",
       "  <thead>\n",
       "    <tr style=\"text-align: right;\">\n",
       "      <th></th>\n",
       "      <th>Units</th>\n",
       "    </tr>\n",
       "    <tr>\n",
       "      <th>Date</th>\n",
       "      <th></th>\n",
       "    </tr>\n",
       "  </thead>\n",
       "  <tbody>\n",
       "    <tr>\n",
       "      <th>2015-02-02</th>\n",
       "      <td>12.0</td>\n",
       "    </tr>\n",
       "    <tr>\n",
       "      <th>2015-02-03</th>\n",
       "      <td>13.0</td>\n",
       "    </tr>\n",
       "    <tr>\n",
       "      <th>2015-02-04</th>\n",
       "      <td>27.0</td>\n",
       "    </tr>\n",
       "    <tr>\n",
       "      <th>2015-02-05</th>\n",
       "      <td>29.0</td>\n",
       "    </tr>\n",
       "    <tr>\n",
       "      <th>2015-02-06</th>\n",
       "      <td>NaN</td>\n",
       "    </tr>\n",
       "  </tbody>\n",
       "</table>\n",
       "</div>"
      ],
      "text/plain": [
       "            Units\n",
       "Date             \n",
       "2015-02-02   12.0\n",
       "2015-02-03   13.0\n",
       "2015-02-04   27.0\n",
       "2015-02-05   29.0\n",
       "2015-02-06    NaN"
      ]
     },
     "execution_count": 83,
     "metadata": {},
     "output_type": "execute_result"
    }
   ],
   "source": [
    "# Gives you daily totals\n",
    "\n",
    "sales.resample('D').sum().head()"
   ]
  },
  {
   "cell_type": "markdown",
   "metadata": {},
   "source": [
    "#### Method Chaining\n",
    "\n",
    "Multiple Chaining methods"
   ]
  },
  {
   "cell_type": "code",
   "execution_count": 84,
   "metadata": {},
   "outputs": [
    {
     "data": {
      "text/plain": [
       "Units    29.0\n",
       "dtype: float64"
      ]
     },
     "execution_count": 84,
     "metadata": {},
     "output_type": "execute_result"
    }
   ],
   "source": [
    "# Max total in any day in February\n",
    "\n",
    "sales.resample('D').sum().max()"
   ]
  },
  {
   "cell_type": "code",
   "execution_count": 85,
   "metadata": {},
   "outputs": [
    {
     "data": {
      "text/html": [
       "<div>\n",
       "<style>\n",
       "    .dataframe thead tr:only-child th {\n",
       "        text-align: right;\n",
       "    }\n",
       "\n",
       "    .dataframe thead th {\n",
       "        text-align: left;\n",
       "    }\n",
       "\n",
       "    .dataframe tbody tr th {\n",
       "        vertical-align: top;\n",
       "    }\n",
       "</style>\n",
       "<table border=\"1\" class=\"dataframe\">\n",
       "  <thead>\n",
       "    <tr style=\"text-align: right;\">\n",
       "      <th></th>\n",
       "      <th>Company</th>\n",
       "      <th>Product</th>\n",
       "      <th>Units</th>\n",
       "    </tr>\n",
       "    <tr>\n",
       "      <th>Date</th>\n",
       "      <th></th>\n",
       "      <th></th>\n",
       "      <th></th>\n",
       "    </tr>\n",
       "  </thead>\n",
       "  <tbody>\n",
       "    <tr>\n",
       "      <th>2015-02-08</th>\n",
       "      <td>8</td>\n",
       "      <td>8</td>\n",
       "      <td>8</td>\n",
       "    </tr>\n",
       "    <tr>\n",
       "      <th>2015-02-15</th>\n",
       "      <td>4</td>\n",
       "      <td>4</td>\n",
       "      <td>4</td>\n",
       "    </tr>\n",
       "    <tr>\n",
       "      <th>2015-02-22</th>\n",
       "      <td>5</td>\n",
       "      <td>5</td>\n",
       "      <td>5</td>\n",
       "    </tr>\n",
       "    <tr>\n",
       "      <th>2015-03-01</th>\n",
       "      <td>3</td>\n",
       "      <td>3</td>\n",
       "      <td>3</td>\n",
       "    </tr>\n",
       "  </tbody>\n",
       "</table>\n",
       "</div>"
      ],
      "text/plain": [
       "            Company  Product  Units\n",
       "Date                               \n",
       "2015-02-08        8        8      8\n",
       "2015-02-15        4        4      4\n",
       "2015-02-22        5        5      5\n",
       "2015-03-01        3        3      3"
      ]
     },
     "execution_count": 85,
     "metadata": {},
     "output_type": "execute_result"
    }
   ],
   "source": [
    "# Number of sales each week in February\n",
    "\n",
    "sales.resample('W').count()"
   ]
  },
  {
   "cell_type": "markdown",
   "metadata": {},
   "source": [
    "#### Multiplying Frequencies"
   ]
  },
  {
   "cell_type": "code",
   "execution_count": 86,
   "metadata": {},
   "outputs": [
    {
     "data": {
      "text/plain": [
       "Date\n",
       "2015-02-08    82\n",
       "2015-02-22    79\n",
       "2015-03-08    15\n",
       "Freq: 2W-SUN, Name: Units, dtype: int64"
      ]
     },
     "execution_count": 86,
     "metadata": {},
     "output_type": "execute_result"
    }
   ],
   "source": [
    "# Total number of sales in 2 week intervals\n",
    "\n",
    "sales.loc[:, 'Units'].resample('2W').sum()"
   ]
  },
  {
   "cell_type": "code",
   "execution_count": null,
   "metadata": {
    "collapsed": true
   },
   "outputs": [],
   "source": []
  },
  {
   "cell_type": "markdown",
   "metadata": {},
   "source": [
    "## Upsampling\n",
    "\n",
    "exp: upsampling from daily to hourly\n",
    "- or hourly to minute"
   ]
  },
  {
   "cell_type": "code",
   "execution_count": 87,
   "metadata": {
    "collapsed": true
   },
   "outputs": [],
   "source": [
    "two_days = sales.loc['2015-2-4': '2015-2-5', 'Units']"
   ]
  },
  {
   "cell_type": "code",
   "execution_count": 88,
   "metadata": {},
   "outputs": [
    {
     "data": {
      "text/plain": [
       "Date\n",
       "2015-02-05 01:53:06    19\n",
       "2015-02-04 21:52:45    14\n",
       "2015-02-05 22:05:03    10\n",
       "2015-02-04 15:36:29    13\n",
       "Name: Units, dtype: int64"
      ]
     },
     "execution_count": 88,
     "metadata": {},
     "output_type": "execute_result"
    }
   ],
   "source": [
    "two_days"
   ]
  },
  {
   "cell_type": "code",
   "execution_count": 89,
   "metadata": {},
   "outputs": [
    {
     "data": {
      "text/plain": [
       "Date\n",
       "2015-02-04 12:00:00     NaN\n",
       "2015-02-04 16:00:00    13.0\n",
       "2015-02-04 20:00:00    13.0\n",
       "2015-02-05 00:00:00    14.0\n",
       "2015-02-05 04:00:00    19.0\n",
       "2015-02-05 08:00:00    19.0\n",
       "2015-02-05 12:00:00    19.0\n",
       "2015-02-05 16:00:00    19.0\n",
       "2015-02-05 20:00:00    19.0\n",
       "Freq: 4H, Name: Units, dtype: float64"
      ]
     },
     "execution_count": 89,
     "metadata": {},
     "output_type": "execute_result"
    }
   ],
   "source": [
    "# resample every 4 hours\n",
    "# Chain ffill() with forward fill method, or Interpolation\n",
    "\n",
    "two_days.resample('4H').ffill()"
   ]
  },
  {
   "cell_type": "code",
   "execution_count": null,
   "metadata": {
    "collapsed": true
   },
   "outputs": [],
   "source": []
  },
  {
   "cell_type": "markdown",
   "metadata": {},
   "source": [
    "#### Resampling and frequency\n",
    "\n",
    "Pandas provides methods for resampling time series data. When downsampling or upsampling, the syntax is similar, but the methods called are different. Both use the concept of 'method chaining' - df.method1().method2().method3() - to direct the output from one method call to the input of the next, and so on, as a sequence of operations, one feeding into the next.\n",
    "\n",
    "For example, if you have hourly data, and just need daily data, pandas will not guess how to throw out the 23 of 24 points. You must specify this in the method. One approach, for instance, could be to take the mean, as in df.resample('D').mean().\n",
    "\n",
    "In this exercise, a data set containing hourly temperature data has been pre-loaded for you. Your job is to resample the data using a variety of aggregation methods to answer a few questions."
   ]
  },
  {
   "cell_type": "code",
   "execution_count": 91,
   "metadata": {},
   "outputs": [],
   "source": [
    "df = weather"
   ]
  },
  {
   "cell_type": "code",
   "execution_count": 96,
   "metadata": {},
   "outputs": [
    {
     "data": {
      "text/plain": [
       "Date\n",
       "2010-01-01 00:00:00    44.200000\n",
       "2010-01-01 06:00:00    45.933333\n",
       "2010-01-01 12:00:00    57.766667\n",
       "2010-01-01 18:00:00    49.450000\n",
       "2010-01-02 00:00:00    44.516667\n",
       "Freq: 6H, Name: Temperature, dtype: float64"
      ]
     },
     "execution_count": 96,
     "metadata": {},
     "output_type": "execute_result"
    }
   ],
   "source": [
    "# Downsample to 6 hour data and aggregate by mean: df1\n",
    "df1 = df.loc[:, 'Temperature'].resample('6H').mean()\n",
    "\n",
    "df1.head()"
   ]
  },
  {
   "cell_type": "code",
   "execution_count": 98,
   "metadata": {},
   "outputs": [
    {
     "data": {
      "text/plain": [
       "Date\n",
       "2010-01-01    24\n",
       "2010-01-02    24\n",
       "2010-01-03    24\n",
       "2010-01-04    24\n",
       "2010-01-05    24\n",
       "Freq: D, Name: Temperature, dtype: int64"
      ]
     },
     "execution_count": 98,
     "metadata": {},
     "output_type": "execute_result"
    }
   ],
   "source": [
    "# Downsample to daily data and count the number of data points: df2\n",
    "df2 = df.loc[:, 'Temperature'].resample('D').count()\n",
    "\n",
    "df2.head()"
   ]
  },
  {
   "cell_type": "markdown",
   "metadata": {},
   "source": [
    "#### Separating and resampling\n",
    "\n",
    "With pandas, you can resample in different ways on different subsets of your data. For example, resampling different months of data with different aggregations. In this exercise, the data set containing hourly temperature data from the last exercise has been pre-loaded.\n",
    "\n",
    "Your job is to resample the data using a variety of aggregation methods. The DataFrame is available in the workspace as df. You will be working with the 'Temperature' column."
   ]
  },
  {
   "cell_type": "code",
   "execution_count": 107,
   "metadata": {},
   "outputs": [],
   "source": [
    "august = df['2010-08'].loc[:, 'Temperature']"
   ]
  },
  {
   "cell_type": "code",
   "execution_count": 108,
   "metadata": {
    "scrolled": true
   },
   "outputs": [
    {
     "data": {
      "text/plain": [
       "Date\n",
       "2010-08-01    95.0\n",
       "2010-08-02    95.0\n",
       "2010-08-03    95.1\n",
       "2010-08-04    95.1\n",
       "2010-08-05    95.1\n",
       "2010-08-06    95.2\n",
       "2010-08-07    95.3\n",
       "2010-08-08    95.2\n",
       "2010-08-09    95.2\n",
       "2010-08-10    95.1\n",
       "2010-08-11    95.0\n",
       "2010-08-12    94.9\n",
       "2010-08-13    95.0\n",
       "2010-08-14    94.9\n",
       "2010-08-15    94.7\n",
       "2010-08-16    94.7\n",
       "2010-08-17    94.8\n",
       "2010-08-18    94.8\n",
       "2010-08-19    94.8\n",
       "2010-08-20    94.8\n",
       "2010-08-21    94.7\n",
       "2010-08-22    94.6\n",
       "2010-08-23    94.5\n",
       "2010-08-24    94.3\n",
       "2010-08-25    94.1\n",
       "2010-08-26    94.0\n",
       "2010-08-27    93.7\n",
       "2010-08-28    93.5\n",
       "2010-08-29    93.3\n",
       "2010-08-30    93.3\n",
       "2010-08-31    93.1\n",
       "Freq: D, Name: Temperature, dtype: float64"
      ]
     },
     "execution_count": 108,
     "metadata": {},
     "output_type": "execute_result"
    }
   ],
   "source": [
    "august_highs = august.resample('D').max()\n",
    "\n",
    "august_highs"
   ]
  },
  {
   "cell_type": "code",
   "execution_count": 110,
   "metadata": {},
   "outputs": [],
   "source": [
    "# Extract temperature data for February: february\n",
    "february = df['2010-02'].loc[: ,'Temperature']"
   ]
  },
  {
   "cell_type": "code",
   "execution_count": 111,
   "metadata": {
    "scrolled": false
   },
   "outputs": [
    {
     "data": {
      "text/plain": [
       "Date\n",
       "2010-02-01    43.8\n",
       "2010-02-02    44.3\n",
       "2010-02-03    44.6\n",
       "2010-02-04    44.5\n",
       "2010-02-05    44.3\n",
       "2010-02-06    44.1\n",
       "2010-02-07    44.3\n",
       "2010-02-08    44.7\n",
       "2010-02-09    44.7\n",
       "2010-02-10    44.9\n",
       "2010-02-11    45.2\n",
       "2010-02-12    45.5\n",
       "2010-02-13    46.0\n",
       "2010-02-14    46.6\n",
       "2010-02-15    46.9\n",
       "2010-02-16    47.1\n",
       "2010-02-17    47.2\n",
       "2010-02-18    47.2\n",
       "2010-02-19    47.4\n",
       "2010-02-20    47.7\n",
       "2010-02-21    47.6\n",
       "2010-02-22    47.7\n",
       "2010-02-23    47.7\n",
       "2010-02-24    48.1\n",
       "2010-02-25    48.4\n",
       "2010-02-26    48.5\n",
       "2010-02-27    48.6\n",
       "2010-02-28    48.6\n",
       "Freq: D, Name: Temperature, dtype: float64"
      ]
     },
     "execution_count": 111,
     "metadata": {},
     "output_type": "execute_result"
    }
   ],
   "source": [
    "# Downsample to obtain the daily lowest temperatures in February: february_lows\n",
    "february_lows = february.resample('D').min()\n",
    "\n",
    "february_lows"
   ]
  },
  {
   "cell_type": "code",
   "execution_count": null,
   "metadata": {
    "collapsed": true
   },
   "outputs": [],
   "source": []
  },
  {
   "cell_type": "markdown",
   "metadata": {},
   "source": [
    "#### Rolling mean and frequency with .rolling() method\n",
    "\n",
    "In this exercise, some hourly weather data is pre-loaded for you. You will continue to practice resampling, this time using rolling means.\n",
    "\n",
    "Rolling means (or moving averages) are generally used to smooth out short-term fluctuations in time series data and highlight long-term trends. You can read more about them here.\n",
    "\n",
    "To use the .rolling() method, you must always use method chaining, first calling .rolling() and then chaining an aggregation method after it. For example, with a Series hourly_data, hourly_data.rolling(window=24).mean() would compute new values for each hourly point, based on a 24-hour window stretching out behind each point. The frequency of the output data is the same: it is still hourly. Such an operation is useful for smoothing time series data.\n",
    "\n",
    "Your job is to resample the data using the combination of .rolling() and .mean(). You will work with the same DataFrame df from the previous exercise."
   ]
  },
  {
   "cell_type": "code",
   "execution_count": 117,
   "metadata": {},
   "outputs": [
    {
     "data": {
      "text/plain": [
       "Date\n",
       "2010-08-01 00:00:00    79.0\n",
       "2010-08-01 01:00:00    77.4\n",
       "2010-08-01 02:00:00    76.4\n",
       "2010-08-01 03:00:00    75.7\n",
       "2010-08-01 04:00:00    75.1\n",
       "Name: Temperature, dtype: float64"
      ]
     },
     "execution_count": 117,
     "metadata": {},
     "output_type": "execute_result"
    }
   ],
   "source": [
    "# Extract data from 2010-Aug-01 to 2010-Aug-15: unsmoothed\n",
    "unsmoothed = df['Temperature']['2010-Aug-01':'2010-Aug-15']\n",
    "\n",
    "unsmoothed.head()"
   ]
  },
  {
   "cell_type": "code",
   "execution_count": 124,
   "metadata": {},
   "outputs": [
    {
     "data": {
      "text/plain": [
       "Date\n",
       "2010-08-02 00:00:00    84.354167\n",
       "2010-08-02 01:00:00    84.354167\n",
       "2010-08-02 02:00:00    84.358333\n",
       "2010-08-02 03:00:00    84.362500\n",
       "2010-08-02 04:00:00    84.366667\n",
       "2010-08-02 05:00:00    84.366667\n",
       "2010-08-02 06:00:00    84.370833\n",
       "2010-08-02 07:00:00    84.375000\n",
       "2010-08-02 08:00:00    84.375000\n",
       "2010-08-02 09:00:00    84.375000\n",
       "2010-08-02 10:00:00    84.370833\n",
       "2010-08-02 11:00:00    84.375000\n",
       "Freq: H, Name: Temperature, dtype: float64"
      ]
     },
     "execution_count": 124,
     "metadata": {},
     "output_type": "execute_result"
    }
   ],
   "source": [
    "# Apply a rolling mean with a 24 hour window: smoothed\n",
    "smoothed = unsmoothed.rolling(window=24).mean()\n",
    "\n",
    "smoothed[24:36]"
   ]
  },
  {
   "cell_type": "code",
   "execution_count": 119,
   "metadata": {
    "collapsed": true
   },
   "outputs": [],
   "source": [
    "# Create a new DataFrame with columns smoothed and unsmoothed: august\n",
    "august = pd.DataFrame({'smoothed':smoothed, 'unsmoothed':unsmoothed})"
   ]
  },
  {
   "cell_type": "code",
   "execution_count": 129,
   "metadata": {},
   "outputs": [
    {
     "data": {
      "image/png": "[encoded data removed]",
      "text/plain": [
       "<matplotlib.figure.Figure at 0x113b322e8>"
      ]
     },
     "metadata": {},
     "output_type": "display_data"
    }
   ],
   "source": [
    "# Plot both smoothed and unsmoothed data using august.plot().\n",
    "august.plot()\n",
    "plt.show()"
   ]
  },
  {
   "cell_type": "code",
   "execution_count": null,
   "metadata": {
    "collapsed": true
   },
   "outputs": [],
   "source": []
  },
  {
   "cell_type": "markdown",
   "metadata": {},
   "source": [
    "#### Resample and roll with it\n",
    "\n",
    "As of pandas version 0.18.0, the interface for applying rolling transformations to time series has become more consistent and flexible, and feels somewhat like a groupby (If you do not know what a groupby is, don't worry, you will learn about it in the next course!).\n",
    "\n",
    "You can now flexibly chain together resampling and rolling operations. In this exercise, the same weather data from the previous exercises has been pre-loaded for you. Your job is to extract one month of data, resample to find the daily high temperatures, and then use a rolling and aggregation operation to smooth the data."
   ]
  },
  {
   "cell_type": "code",
   "execution_count": 133,
   "metadata": {},
   "outputs": [],
   "source": [
    "# Extract the August 2010 data: august\n",
    "august = df['Temperature']['2010-8']"
   ]
  },
  {
   "cell_type": "code",
   "execution_count": 135,
   "metadata": {
    "collapsed": true
   },
   "outputs": [],
   "source": [
    "# Resample to daily data, aggregating by max: daily_highs\n",
    "daily_highs = august.resample('D').max()"
   ]
  },
  {
   "cell_type": "code",
   "execution_count": 136,
   "metadata": {},
   "outputs": [
    {
     "name": "stdout",
     "output_type": "stream",
     "text": [
      "Date\n",
      "2010-08-01          NaN\n",
      "2010-08-02          NaN\n",
      "2010-08-03          NaN\n",
      "2010-08-04          NaN\n",
      "2010-08-05          NaN\n",
      "2010-08-06          NaN\n",
      "2010-08-07    95.114286\n",
      "2010-08-08    95.142857\n",
      "2010-08-09    95.171429\n",
      "2010-08-10    95.171429\n",
      "2010-08-11    95.157143\n",
      "2010-08-12    95.128571\n",
      "2010-08-13    95.100000\n",
      "2010-08-14    95.042857\n",
      "2010-08-15    94.971429\n",
      "2010-08-16    94.900000\n",
      "2010-08-17    94.857143\n",
      "2010-08-18    94.828571\n",
      "2010-08-19    94.814286\n",
      "2010-08-20    94.785714\n",
      "2010-08-21    94.757143\n",
      "2010-08-22    94.742857\n",
      "2010-08-23    94.714286\n",
      "2010-08-24    94.642857\n",
      "2010-08-25    94.542857\n",
      "2010-08-26    94.428571\n",
      "2010-08-27    94.271429\n",
      "2010-08-28    94.100000\n",
      "2010-08-29    93.914286\n",
      "2010-08-30    93.742857\n",
      "2010-08-31    93.571429\n",
      "Freq: D, Name: Temperature, dtype: float64\n"
     ]
    }
   ],
   "source": [
    "# Use a rolling 7-day window with method chaining to smooth the daily high temperatures in August\n",
    "daily_highs_smoothed = daily_highs.rolling(window=7).mean()\n",
    "print(daily_highs_smoothed)"
   ]
  },
  {
   "cell_type": "code",
   "execution_count": null,
   "metadata": {
    "collapsed": true
   },
   "outputs": [],
   "source": []
  },
  {
   "cell_type": "code",
   "execution_count": null,
   "metadata": {
    "collapsed": true
   },
   "outputs": [],
   "source": []
  },
  {
   "cell_type": "code",
   "execution_count": null,
   "metadata": {
    "collapsed": true
   },
   "outputs": [],
   "source": []
  }
 ],
 "metadata": {
  "kernelspec": {
   "display_name": "Python 3",
   "language": "python",
   "name": "python3"
  },
  "language_info": {
   "codemirror_mode": {
    "name": "ipython",
    "version": 3
   },
   "file_extension": ".py",
   "mimetype": "text/x-python",
   "name": "python",
   "nbconvert_exporter": "python",
   "pygments_lexer": "ipython3",
   "version": "3.6.3"
  }
 },
 "nbformat": 4,
 "nbformat_minor": 2
}
