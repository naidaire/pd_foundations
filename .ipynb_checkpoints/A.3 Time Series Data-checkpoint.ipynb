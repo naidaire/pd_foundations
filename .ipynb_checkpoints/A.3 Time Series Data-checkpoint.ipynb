{
 "cells": [
  {
   "cell_type": "markdown",
   "metadata": {},
   "source": [
    "# Time Series Data in Pandas"
   ]
  },
  {
   "cell_type": "markdown",
   "metadata": {},
   "source": [
    "# Indexing Time Series Data\n",
    "\n",
    "Date Times in datetime objects.\n",
    "\n",
    "read_csv can read strings into datetimes.\n",
    "\n",
    "- Parse_dates = True\n",
    "- index_col = 'Date'\n",
    "    - very useful for datetime exploration\n",
    "    \n",
    "\n",
    "\n",
    "\n",
    "ISO 8601 format - yyyy-mm-dd hh:mm:ss\n",
    "\n",
    "Loc\n",
    "- sales.loc['2-1002-19 11:00:00', 'Company']"
   ]
  },
  {
   "cell_type": "code",
   "execution_count": 150,
   "metadata": {
    "collapsed": true
   },
   "outputs": [],
   "source": [
    "import pandas as pd\n",
    "import matplotlib.pyplot as plt\n",
    "\n",
    "sales = pd.read_csv('./data/sales-feb-2015.csv',\n",
    "                    parse_dates=True,\n",
    "                    index_col='Date')"
   ]
  },
  {
   "cell_type": "code",
   "execution_count": 151,
   "metadata": {},
   "outputs": [
    {
     "data": {
      "text/html": [
       "<div>\n",
       "<style>\n",
       "    .dataframe thead tr:only-child th {\n",
       "        text-align: right;\n",
       "    }\n",
       "\n",
       "    .dataframe thead th {\n",
       "        text-align: left;\n",
       "    }\n",
       "\n",
       "    .dataframe tbody tr th {\n",
       "        vertical-align: top;\n",
       "    }\n",
       "</style>\n",
       "<table border=\"1\" class=\"dataframe\">\n",
       "  <thead>\n",
       "    <tr style=\"text-align: right;\">\n",
       "      <th></th>\n",
       "      <th>Company</th>\n",
       "      <th>Product</th>\n",
       "      <th>Units</th>\n",
       "    </tr>\n",
       "    <tr>\n",
       "      <th>Date</th>\n",
       "      <th></th>\n",
       "      <th></th>\n",
       "      <th></th>\n",
       "    </tr>\n",
       "  </thead>\n",
       "  <tbody>\n",
       "    <tr>\n",
       "      <th>2015-02-26 08:57:45</th>\n",
       "      <td>Streeplex</td>\n",
       "      <td>Service</td>\n",
       "      <td>4</td>\n",
       "    </tr>\n",
       "    <tr>\n",
       "      <th>2015-02-16 12:09:19</th>\n",
       "      <td>Hooli</td>\n",
       "      <td>Software</td>\n",
       "      <td>10</td>\n",
       "    </tr>\n",
       "    <tr>\n",
       "      <th>2015-02-03 14:14:18</th>\n",
       "      <td>Initech</td>\n",
       "      <td>Software</td>\n",
       "      <td>13</td>\n",
       "    </tr>\n",
       "    <tr>\n",
       "      <th>2015-02-02 08:33:01</th>\n",
       "      <td>Hooli</td>\n",
       "      <td>Software</td>\n",
       "      <td>3</td>\n",
       "    </tr>\n",
       "    <tr>\n",
       "      <th>2015-02-25 00:29:00</th>\n",
       "      <td>Initech</td>\n",
       "      <td>Service</td>\n",
       "      <td>10</td>\n",
       "    </tr>\n",
       "  </tbody>\n",
       "</table>\n",
       "</div>"
      ],
      "text/plain": [
       "                       Company   Product  Units\n",
       "Date                                           \n",
       "2015-02-26 08:57:45  Streeplex   Service      4\n",
       "2015-02-16 12:09:19      Hooli  Software     10\n",
       "2015-02-03 14:14:18    Initech  Software     13\n",
       "2015-02-02 08:33:01      Hooli  Software      3\n",
       "2015-02-25 00:29:00    Initech   Service     10"
      ]
     },
     "execution_count": 151,
     "metadata": {},
     "output_type": "execute_result"
    }
   ],
   "source": [
    "sales.head()"
   ]
  },
  {
   "cell_type": "code",
   "execution_count": 152,
   "metadata": {},
   "outputs": [
    {
     "data": {
      "text/html": [
       "<div>\n",
       "<style>\n",
       "    .dataframe thead tr:only-child th {\n",
       "        text-align: right;\n",
       "    }\n",
       "\n",
       "    .dataframe thead th {\n",
       "        text-align: left;\n",
       "    }\n",
       "\n",
       "    .dataframe tbody tr th {\n",
       "        vertical-align: top;\n",
       "    }\n",
       "</style>\n",
       "<table border=\"1\" class=\"dataframe\">\n",
       "  <thead>\n",
       "    <tr style=\"text-align: right;\">\n",
       "      <th></th>\n",
       "      <th>Company</th>\n",
       "      <th>Product</th>\n",
       "      <th>Units</th>\n",
       "    </tr>\n",
       "    <tr>\n",
       "      <th>Date</th>\n",
       "      <th></th>\n",
       "      <th></th>\n",
       "      <th></th>\n",
       "    </tr>\n",
       "  </thead>\n",
       "  <tbody>\n",
       "    <tr>\n",
       "      <th>2015-02-26 08:57:45</th>\n",
       "      <td>Streeplex</td>\n",
       "      <td>Service</td>\n",
       "      <td>4</td>\n",
       "    </tr>\n",
       "    <tr>\n",
       "      <th>2015-02-16 12:09:19</th>\n",
       "      <td>Hooli</td>\n",
       "      <td>Software</td>\n",
       "      <td>10</td>\n",
       "    </tr>\n",
       "    <tr>\n",
       "      <th>2015-02-03 14:14:18</th>\n",
       "      <td>Initech</td>\n",
       "      <td>Software</td>\n",
       "      <td>13</td>\n",
       "    </tr>\n",
       "    <tr>\n",
       "      <th>2015-02-02 08:33:01</th>\n",
       "      <td>Hooli</td>\n",
       "      <td>Software</td>\n",
       "      <td>3</td>\n",
       "    </tr>\n",
       "    <tr>\n",
       "      <th>2015-02-25 00:29:00</th>\n",
       "      <td>Initech</td>\n",
       "      <td>Service</td>\n",
       "      <td>10</td>\n",
       "    </tr>\n",
       "    <tr>\n",
       "      <th>2015-02-05 01:53:06</th>\n",
       "      <td>Acme Coporation</td>\n",
       "      <td>Software</td>\n",
       "      <td>19</td>\n",
       "    </tr>\n",
       "    <tr>\n",
       "      <th>2015-02-09 08:57:30</th>\n",
       "      <td>Streeplex</td>\n",
       "      <td>Service</td>\n",
       "      <td>19</td>\n",
       "    </tr>\n",
       "    <tr>\n",
       "      <th>2015-02-11 20:03:08</th>\n",
       "      <td>Initech</td>\n",
       "      <td>Software</td>\n",
       "      <td>7</td>\n",
       "    </tr>\n",
       "    <tr>\n",
       "      <th>2015-02-04 21:52:45</th>\n",
       "      <td>Acme Coporation</td>\n",
       "      <td>Hardware</td>\n",
       "      <td>14</td>\n",
       "    </tr>\n",
       "    <tr>\n",
       "      <th>2015-02-09 13:09:55</th>\n",
       "      <td>Mediacore</td>\n",
       "      <td>Software</td>\n",
       "      <td>7</td>\n",
       "    </tr>\n",
       "    <tr>\n",
       "      <th>2015-02-07 22:58:10</th>\n",
       "      <td>Acme Coporation</td>\n",
       "      <td>Hardware</td>\n",
       "      <td>1</td>\n",
       "    </tr>\n",
       "    <tr>\n",
       "      <th>2015-02-11 22:50:44</th>\n",
       "      <td>Hooli</td>\n",
       "      <td>Software</td>\n",
       "      <td>4</td>\n",
       "    </tr>\n",
       "    <tr>\n",
       "      <th>2015-02-26 08:58:51</th>\n",
       "      <td>Streeplex</td>\n",
       "      <td>Service</td>\n",
       "      <td>1</td>\n",
       "    </tr>\n",
       "    <tr>\n",
       "      <th>2015-02-05 22:05:03</th>\n",
       "      <td>Hooli</td>\n",
       "      <td>Service</td>\n",
       "      <td>10</td>\n",
       "    </tr>\n",
       "    <tr>\n",
       "      <th>2015-02-04 15:36:29</th>\n",
       "      <td>Streeplex</td>\n",
       "      <td>Software</td>\n",
       "      <td>13</td>\n",
       "    </tr>\n",
       "    <tr>\n",
       "      <th>2015-02-19 16:02:58</th>\n",
       "      <td>Mediacore</td>\n",
       "      <td>Service</td>\n",
       "      <td>10</td>\n",
       "    </tr>\n",
       "    <tr>\n",
       "      <th>2015-02-19 10:59:33</th>\n",
       "      <td>Mediacore</td>\n",
       "      <td>Hardware</td>\n",
       "      <td>16</td>\n",
       "    </tr>\n",
       "    <tr>\n",
       "      <th>2015-02-02 20:54:49</th>\n",
       "      <td>Mediacore</td>\n",
       "      <td>Hardware</td>\n",
       "      <td>9</td>\n",
       "    </tr>\n",
       "    <tr>\n",
       "      <th>2015-02-21 05:01:26</th>\n",
       "      <td>Mediacore</td>\n",
       "      <td>Software</td>\n",
       "      <td>3</td>\n",
       "    </tr>\n",
       "    <tr>\n",
       "      <th>2015-02-21 20:41:47</th>\n",
       "      <td>Hooli</td>\n",
       "      <td>Hardware</td>\n",
       "      <td>3</td>\n",
       "    </tr>\n",
       "  </tbody>\n",
       "</table>\n",
       "</div>"
      ],
      "text/plain": [
       "                             Company   Product  Units\n",
       "Date                                                 \n",
       "2015-02-26 08:57:45        Streeplex   Service      4\n",
       "2015-02-16 12:09:19            Hooli  Software     10\n",
       "2015-02-03 14:14:18          Initech  Software     13\n",
       "2015-02-02 08:33:01            Hooli  Software      3\n",
       "2015-02-25 00:29:00          Initech   Service     10\n",
       "2015-02-05 01:53:06  Acme Coporation  Software     19\n",
       "2015-02-09 08:57:30        Streeplex   Service     19\n",
       "2015-02-11 20:03:08          Initech  Software      7\n",
       "2015-02-04 21:52:45  Acme Coporation  Hardware     14\n",
       "2015-02-09 13:09:55        Mediacore  Software      7\n",
       "2015-02-07 22:58:10  Acme Coporation  Hardware      1\n",
       "2015-02-11 22:50:44            Hooli  Software      4\n",
       "2015-02-26 08:58:51        Streeplex   Service      1\n",
       "2015-02-05 22:05:03            Hooli   Service     10\n",
       "2015-02-04 15:36:29        Streeplex  Software     13\n",
       "2015-02-19 16:02:58        Mediacore   Service     10\n",
       "2015-02-19 10:59:33        Mediacore  Hardware     16\n",
       "2015-02-02 20:54:49        Mediacore  Hardware      9\n",
       "2015-02-21 05:01:26        Mediacore  Software      3\n",
       "2015-02-21 20:41:47            Hooli  Hardware      3"
      ]
     },
     "execution_count": 152,
     "metadata": {},
     "output_type": "execute_result"
    }
   ],
   "source": [
    "# Sample loc\n",
    "\n",
    "# select specific date/time\n",
    "sales.loc['2015-02-16 12:09:19', 'Company']\n",
    "\n",
    "# Partial datetime string selection\n",
    "# select specific day\n",
    "sales.loc['2015-2-5']\n",
    "\n",
    "sales.loc['February 5, 2015']\n",
    "\n",
    "sales.loc['2015-Feb-5']\n",
    "\n",
    "# Select whole months\n",
    "sales.loc['2015-2']\n",
    "\n",
    "# select whole year\n",
    "sales.loc['2015']\n",
    "\n",
    "\n"
   ]
  },
  {
   "cell_type": "markdown",
   "metadata": {},
   "source": [
    "Slicing Using Dates/Times"
   ]
  },
  {
   "cell_type": "code",
   "execution_count": 153,
   "metadata": {},
   "outputs": [
    {
     "data": {
      "text/html": [
       "<div>\n",
       "<style>\n",
       "    .dataframe thead tr:only-child th {\n",
       "        text-align: right;\n",
       "    }\n",
       "\n",
       "    .dataframe thead th {\n",
       "        text-align: left;\n",
       "    }\n",
       "\n",
       "    .dataframe tbody tr th {\n",
       "        vertical-align: top;\n",
       "    }\n",
       "</style>\n",
       "<table border=\"1\" class=\"dataframe\">\n",
       "  <thead>\n",
       "    <tr style=\"text-align: right;\">\n",
       "      <th></th>\n",
       "      <th>Company</th>\n",
       "      <th>Product</th>\n",
       "      <th>Units</th>\n",
       "    </tr>\n",
       "    <tr>\n",
       "      <th>Date</th>\n",
       "      <th></th>\n",
       "      <th></th>\n",
       "      <th></th>\n",
       "    </tr>\n",
       "  </thead>\n",
       "  <tbody>\n",
       "    <tr>\n",
       "      <th>2015-02-16 12:09:19</th>\n",
       "      <td>Hooli</td>\n",
       "      <td>Software</td>\n",
       "      <td>10</td>\n",
       "    </tr>\n",
       "    <tr>\n",
       "      <th>2015-02-19 16:02:58</th>\n",
       "      <td>Mediacore</td>\n",
       "      <td>Service</td>\n",
       "      <td>10</td>\n",
       "    </tr>\n",
       "    <tr>\n",
       "      <th>2015-02-19 10:59:33</th>\n",
       "      <td>Mediacore</td>\n",
       "      <td>Hardware</td>\n",
       "      <td>16</td>\n",
       "    </tr>\n",
       "  </tbody>\n",
       "</table>\n",
       "</div>"
      ],
      "text/plain": [
       "                       Company   Product  Units\n",
       "Date                                           \n",
       "2015-02-16 12:09:19      Hooli  Software     10\n",
       "2015-02-19 16:02:58  Mediacore   Service     10\n",
       "2015-02-19 10:59:33  Mediacore  Hardware     16"
      ]
     },
     "execution_count": 153,
     "metadata": {},
     "output_type": "execute_result"
    }
   ],
   "source": [
    "sales.loc['2015-2-16':'2015-2-20']\n"
   ]
  },
  {
   "cell_type": "markdown",
   "metadata": {},
   "source": [
    "#### pd.to_datetime() object\n",
    "\n",
    "Changes text in  iso8601 format into datetime objects"
   ]
  },
  {
   "cell_type": "code",
   "execution_count": 154,
   "metadata": {
    "collapsed": true
   },
   "outputs": [],
   "source": [
    "evening_2_11 = pd.to_datetime(['2015-2-11'])"
   ]
  },
  {
   "cell_type": "markdown",
   "metadata": {},
   "source": [
    "#### Reindexing Dataframe\n",
    "\n",
    "provides a new index with matching data\n",
    "creates new dataframe\n",
    "\n",
    "Default = blank dates fill with NaN\n",
    "ffill = forwad fill NaN with data\n",
    "bfill = back fill NaN with data\n",
    "\n"
   ]
  },
  {
   "cell_type": "code",
   "execution_count": 157,
   "metadata": {
    "scrolled": true
   },
   "outputs": [],
   "source": [
    "# override default of fillinging with NaN\n",
    "# ffill = forward fill\n",
    "# bfill = back fill\n",
    "\n",
    "# sales.reindex(evening_2_11, method='ffill')\n",
    "\n"
   ]
  },
  {
   "cell_type": "code",
   "execution_count": null,
   "metadata": {
    "collapsed": true
   },
   "outputs": [],
   "source": []
  },
  {
   "cell_type": "markdown",
   "metadata": {},
   "source": [
    "#### Creating and using a DatetimeIndex\n",
    "\n",
    "The pandas Index is a powerful way to handle time series data, so it is valuable to know how to build one yourself. Pandas provides the pd.to_datetime() function for just this task. For example, if passed the list of strings ['2015-01-01 091234','2015-01-01 091234'] and a format specification variable, such as format='%Y-%m-%d %H%M%S, pandas will parse the string into the proper datetime elements and build the datetime objects.\n",
    "\n",
    "In this exercise, a list of temperature data and a list of date strings has been pre-loaded for you as temperature_list and date_list respectively. Your job is to use the .to_datetime() method to build a DatetimeIndex out of the list of date strings, and to then use it along with the list of temperature data to build a pandas Series."
   ]
  },
  {
   "cell_type": "code",
   "execution_count": 158,
   "metadata": {
    "collapsed": true
   },
   "outputs": [],
   "source": [
    "import pandas as pd"
   ]
  },
  {
   "cell_type": "code",
   "execution_count": 159,
   "metadata": {
    "collapsed": true
   },
   "outputs": [],
   "source": [
    "temperature_list = [47.8,\n",
    "                 47.2,\n",
    "                 46.5,\n",
    "                 46.2,\n",
    "                 45.7,\n",
    "                 46.0,\n",
    "                 45.2,\n",
    "                 46.0,\n",
    "                 49.4,\n",
    "                 52.7,\n",
    "                 55.7,\n",
    "                 58.0,\n",
    "                 60.0,\n",
    "                 61.4,\n",
    "                 62.3]"
   ]
  },
  {
   "cell_type": "code",
   "execution_count": 160,
   "metadata": {
    "collapsed": true
   },
   "outputs": [],
   "source": [
    "date_list = ['20100211 01:00',\n",
    "             '20100211 02:00',\n",
    "             '20100211 03:00',\n",
    "             '20100211 04:00',\n",
    "             '20100211 05:00',\n",
    "             '20100211 06:00',\n",
    "             '20100211 07:00',\n",
    "             '20100211 08:00',\n",
    "             '20100211 09:00',\n",
    "             '20100211 10:00',\n",
    "             '20100211 11:00',\n",
    "             '20100211 12:00',\n",
    "             '20100211 13:00',\n",
    "             '20100211 14:00',\n",
    "             '20100211 15:00']"
   ]
  },
  {
   "cell_type": "markdown",
   "metadata": {},
   "source": [
    "Next to DataFrames, Series are another important object that pandas allows us to create, and they're very convenient for time series data"
   ]
  },
  {
   "cell_type": "code",
   "execution_count": 161,
   "metadata": {
    "collapsed": true
   },
   "outputs": [],
   "source": [
    "# Prepare a format string: time_format\n",
    "time_format = '%Y-%m-%d %H:%M'\n",
    "\n",
    "# Convert date_list into a datetime object: my_datetimes\n",
    "my_datetimes = pd.to_datetime(date_list, format=time_format)  \n",
    "\n",
    "# Construct a pandas Series using temperature_list and my_datetimes: time_series\n",
    "time_series = pd.Series(temperature_list, index=my_datetimes)\n",
    "\n"
   ]
  },
  {
   "cell_type": "code",
   "execution_count": 162,
   "metadata": {},
   "outputs": [
    {
     "data": {
      "text/plain": [
       "2010-02-11 01:00:00    47.8\n",
       "2010-02-11 02:00:00    47.2\n",
       "2010-02-11 03:00:00    46.5\n",
       "2010-02-11 04:00:00    46.2\n",
       "2010-02-11 05:00:00    45.7\n",
       "2010-02-11 06:00:00    46.0\n",
       "2010-02-11 07:00:00    45.2\n",
       "2010-02-11 08:00:00    46.0\n",
       "2010-02-11 09:00:00    49.4\n",
       "2010-02-11 10:00:00    52.7\n",
       "2010-02-11 11:00:00    55.7\n",
       "2010-02-11 12:00:00    58.0\n",
       "2010-02-11 13:00:00    60.0\n",
       "2010-02-11 14:00:00    61.4\n",
       "2010-02-11 15:00:00    62.3\n",
       "dtype: float64"
      ]
     },
     "execution_count": 162,
     "metadata": {},
     "output_type": "execute_result"
    }
   ],
   "source": [
    "# series with datetime as index\n",
    "\n",
    "time_series"
   ]
  },
  {
   "cell_type": "code",
   "execution_count": null,
   "metadata": {
    "collapsed": true
   },
   "outputs": [],
   "source": []
  },
  {
   "cell_type": "markdown",
   "metadata": {},
   "source": [
    "#### Partial string indexing and slicing\n",
    "\n",
    "Pandas time series support \"partial string\" indexing. What this means is that even when passed only a portion of the datetime, such as the date but not the time, pandas is remarkably good at doing what one would expect. Pandas datetime indexing also supports a wide variety of commonly used datetime string formats, even when mixed.\n",
    "\n",
    "In this exercise, a time series that contains hourly weather data has been pre-loaded for you. This data was read using the parse_dates=True option in read_csv() with index_col=\"Dates\" so that the Index is indeed a DatetimeIndex.\n",
    "\n",
    "All data from the 'Temperature' column has been extracted into the variable ts0. Your job is to use a variety of natural date strings to extract one or more values from ts0.\n",
    "\n",
    "After you are done, you will have three new variables - ts1, ts2, and ts3. You can slice these further to extract only the first and last entries of each. Try doing this after your submission for more practice."
   ]
  },
  {
   "cell_type": "code",
   "execution_count": 163,
   "metadata": {
    "collapsed": true
   },
   "outputs": [],
   "source": [
    "weather = pd.read_csv('./data/weather_data_austin_2010.csv',\n",
    "                      parse_dates=True, index_col='Date')"
   ]
  },
  {
   "cell_type": "code",
   "execution_count": 164,
   "metadata": {},
   "outputs": [
    {
     "data": {
      "text/html": [
       "<div>\n",
       "<style>\n",
       "    .dataframe thead tr:only-child th {\n",
       "        text-align: right;\n",
       "    }\n",
       "\n",
       "    .dataframe thead th {\n",
       "        text-align: left;\n",
       "    }\n",
       "\n",
       "    .dataframe tbody tr th {\n",
       "        vertical-align: top;\n",
       "    }\n",
       "</style>\n",
       "<table border=\"1\" class=\"dataframe\">\n",
       "  <thead>\n",
       "    <tr style=\"text-align: right;\">\n",
       "      <th></th>\n",
       "      <th>Temperature</th>\n",
       "      <th>DewPoint</th>\n",
       "      <th>Pressure</th>\n",
       "    </tr>\n",
       "    <tr>\n",
       "      <th>Date</th>\n",
       "      <th></th>\n",
       "      <th></th>\n",
       "      <th></th>\n",
       "    </tr>\n",
       "  </thead>\n",
       "  <tbody>\n",
       "    <tr>\n",
       "      <th>2010-01-01 00:00:00</th>\n",
       "      <td>46.2</td>\n",
       "      <td>37.5</td>\n",
       "      <td>1.0</td>\n",
       "    </tr>\n",
       "    <tr>\n",
       "      <th>2010-01-01 01:00:00</th>\n",
       "      <td>44.6</td>\n",
       "      <td>37.1</td>\n",
       "      <td>1.0</td>\n",
       "    </tr>\n",
       "    <tr>\n",
       "      <th>2010-01-01 02:00:00</th>\n",
       "      <td>44.1</td>\n",
       "      <td>36.9</td>\n",
       "      <td>1.0</td>\n",
       "    </tr>\n",
       "    <tr>\n",
       "      <th>2010-01-01 03:00:00</th>\n",
       "      <td>43.8</td>\n",
       "      <td>36.9</td>\n",
       "      <td>1.0</td>\n",
       "    </tr>\n",
       "    <tr>\n",
       "      <th>2010-01-01 04:00:00</th>\n",
       "      <td>43.5</td>\n",
       "      <td>36.8</td>\n",
       "      <td>1.0</td>\n",
       "    </tr>\n",
       "  </tbody>\n",
       "</table>\n",
       "</div>"
      ],
      "text/plain": [
       "                     Temperature  DewPoint  Pressure\n",
       "Date                                                \n",
       "2010-01-01 00:00:00         46.2      37.5       1.0\n",
       "2010-01-01 01:00:00         44.6      37.1       1.0\n",
       "2010-01-01 02:00:00         44.1      36.9       1.0\n",
       "2010-01-01 03:00:00         43.8      36.9       1.0\n",
       "2010-01-01 04:00:00         43.5      36.8       1.0"
      ]
     },
     "execution_count": 164,
     "metadata": {},
     "output_type": "execute_result"
    }
   ],
   "source": [
    "weather.head()"
   ]
  },
  {
   "cell_type": "code",
   "execution_count": 165,
   "metadata": {
    "collapsed": true
   },
   "outputs": [],
   "source": [
    "ts0 = weather.loc[:, 'Temperature']"
   ]
  },
  {
   "cell_type": "code",
   "execution_count": 166,
   "metadata": {
    "collapsed": true
   },
   "outputs": [],
   "source": [
    "# Extract the hour from 9pm to 10pm on '2010-10-11': ts1\n",
    "ts1 = ts0.loc['2010-10-11 21:00:00':'2010-10-11 22:00:00']\n",
    "\n",
    "# Extract '2010-07-04' from ts0: ts2\n",
    "ts2 = ts0.loc['2010-07-04']\n",
    "\n",
    "# Extract data from '2010-12-15' to '2010-12-31': ts3\n",
    "ts3 = ts0.loc['2010-12-15':'2010-12-31']"
   ]
  },
  {
   "cell_type": "code",
   "execution_count": 167,
   "metadata": {},
   "outputs": [
    {
     "data": {
      "text/plain": [
       "Date\n",
       "2010-10-11 21:00:00    69.0\n",
       "2010-10-11 22:00:00    67.7\n",
       "Name: Temperature, dtype: float64"
      ]
     },
     "execution_count": 167,
     "metadata": {},
     "output_type": "execute_result"
    }
   ],
   "source": [
    "ts1"
   ]
  },
  {
   "cell_type": "code",
   "execution_count": 168,
   "metadata": {},
   "outputs": [
    {
     "data": {
      "text/plain": [
       "Date\n",
       "2010-07-04 00:00:00    77.6\n",
       "2010-07-04 01:00:00    76.3\n",
       "2010-07-04 02:00:00    75.5\n",
       "2010-07-04 03:00:00    74.9\n",
       "2010-07-04 04:00:00    74.6\n",
       "2010-07-04 05:00:00    74.2\n",
       "2010-07-04 06:00:00    74.4\n",
       "2010-07-04 07:00:00    76.0\n",
       "2010-07-04 08:00:00    79.0\n",
       "2010-07-04 09:00:00    81.8\n",
       "2010-07-04 10:00:00    84.6\n",
       "2010-07-04 11:00:00    86.8\n",
       "2010-07-04 12:00:00    88.9\n",
       "2010-07-04 13:00:00    90.1\n",
       "2010-07-04 14:00:00    91.1\n",
       "2010-07-04 15:00:00    91.6\n",
       "2010-07-04 16:00:00    91.5\n",
       "2010-07-04 17:00:00    90.7\n",
       "2010-07-04 18:00:00    89.5\n",
       "2010-07-04 19:00:00    87.3\n",
       "2010-07-04 20:00:00    84.0\n",
       "2010-07-04 21:00:00    81.8\n",
       "2010-07-04 22:00:00    80.0\n",
       "2010-07-04 23:00:00    78.5\n",
       "Name: Temperature, dtype: float64"
      ]
     },
     "execution_count": 168,
     "metadata": {},
     "output_type": "execute_result"
    }
   ],
   "source": [
    "ts2"
   ]
  },
  {
   "cell_type": "code",
   "execution_count": 169,
   "metadata": {},
   "outputs": [
    {
     "data": {
      "text/plain": [
       "Date\n",
       "2010-12-15 00:00:00    48.0\n",
       "2010-12-15 01:00:00    47.2\n",
       "2010-12-15 02:00:00    46.5\n",
       "2010-12-15 03:00:00    46.0\n",
       "2010-12-15 04:00:00    45.6\n",
       "2010-12-15 05:00:00    45.3\n",
       "2010-12-15 06:00:00    45.6\n",
       "2010-12-15 07:00:00    45.0\n",
       "2010-12-15 08:00:00    45.8\n",
       "2010-12-15 09:00:00    49.1\n",
       "2010-12-15 10:00:00    52.2\n",
       "2010-12-15 11:00:00    54.9\n",
       "2010-12-15 12:00:00    57.2\n",
       "2010-12-15 13:00:00    58.9\n",
       "2010-12-15 14:00:00    60.2\n",
       "2010-12-15 15:00:00    60.9\n",
       "2010-12-15 16:00:00    60.5\n",
       "2010-12-15 17:00:00    59.1\n",
       "2010-12-15 18:00:00    55.8\n",
       "2010-12-15 19:00:00    52.5\n",
       "2010-12-15 20:00:00    50.7\n",
       "2010-12-15 21:00:00    49.6\n",
       "2010-12-15 22:00:00    48.6\n",
       "2010-12-15 23:00:00    47.7\n",
       "2010-12-16 00:00:00    47.6\n",
       "2010-12-16 01:00:00    46.7\n",
       "2010-12-16 02:00:00    46.1\n",
       "2010-12-16 03:00:00    45.6\n",
       "2010-12-16 04:00:00    45.2\n",
       "2010-12-16 05:00:00    44.8\n",
       "                       ... \n",
       "2010-12-30 18:00:00    54.1\n",
       "2010-12-30 19:00:00    50.9\n",
       "2010-12-30 20:00:00    49.0\n",
       "2010-12-30 21:00:00    47.9\n",
       "2010-12-30 22:00:00    46.9\n",
       "2010-12-30 23:00:00    46.1\n",
       "2010-12-31 00:00:00    46.1\n",
       "2010-12-31 01:00:00    44.5\n",
       "2010-12-31 02:00:00    44.1\n",
       "2010-12-31 03:00:00    43.7\n",
       "2010-12-31 04:00:00    43.5\n",
       "2010-12-31 05:00:00    42.9\n",
       "2010-12-31 06:00:00    43.0\n",
       "2010-12-31 07:00:00    42.2\n",
       "2010-12-31 08:00:00    42.5\n",
       "2010-12-31 09:00:00    46.0\n",
       "2010-12-31 10:00:00    49.4\n",
       "2010-12-31 11:00:00    52.4\n",
       "2010-12-31 12:00:00    54.7\n",
       "2010-12-31 13:00:00    56.9\n",
       "2010-12-31 14:00:00    58.2\n",
       "2010-12-31 15:00:00    58.8\n",
       "2010-12-31 16:00:00    58.8\n",
       "2010-12-31 17:00:00    57.6\n",
       "2010-12-31 18:00:00    54.3\n",
       "2010-12-31 19:00:00    51.1\n",
       "2010-12-31 20:00:00    49.0\n",
       "2010-12-31 21:00:00    47.9\n",
       "2010-12-31 22:00:00    46.9\n",
       "2010-12-31 23:00:00    46.2\n",
       "Name: Temperature, Length: 408, dtype: float64"
      ]
     },
     "execution_count": 169,
     "metadata": {},
     "output_type": "execute_result"
    }
   ],
   "source": [
    "ts3"
   ]
  },
  {
   "cell_type": "code",
   "execution_count": null,
   "metadata": {
    "collapsed": true
   },
   "outputs": [],
   "source": []
  },
  {
   "cell_type": "markdown",
   "metadata": {},
   "source": [
    "#### Reindexing the Index\n",
    "\n",
    "Reindexing is useful in preparation for adding or otherwise combining two time series data sets. To reindex the data, we provide a new index and ask pandas to try and match the old data to the new index. If data is unavailable for one of the new index dates or times, you must tell pandas how to fill it in. Otherwise, pandas will fill with NaN by default.\n",
    "\n",
    "In this exercise, two time series data sets containing daily data have been pre-loaded for you, each indexed by dates. The first, ts1, includes weekends, but the second, ts2, does not. The goal is to combine the two data sets in a sensible way. Your job is to reindex the second data set so that it has weekends as well, and then add it to the first. When you are done, it would be informative to inspect your results."
   ]
  },
  {
   "cell_type": "markdown",
   "metadata": {},
   "source": [
    "- Create a new time series ts3 by reindexing ts2 with the index of ts1. To do this, call .reindex() on ts2 and pass in the index of ts1 (ts1.index).\n",
    "- Create another new time series, ts4, by calling the same .reindex() as above, but also specifiying a fill method, using the keyword argument method=\"ffill\" to forward-fill values.\n",
    "- Add ts1 + ts2. Assign the result to sum12.\n",
    "- Add ts1 + ts3. Assign the result to sum13.\n",
    "- Add ts1 + ts4, Assign the result to sum14."
   ]
  },
  {
   "cell_type": "code",
   "execution_count": 170,
   "metadata": {
    "collapsed": true
   },
   "outputs": [],
   "source": [
    "# Reindex without fill method: ts3\n",
    "ts3 = ts2.reindex(ts1.index)\n",
    "\n",
    "# Reindex with fill method, using forward fill: ts4\n",
    "ts4 = ts2.reindex(ts1.index, method='ffill')\n",
    "\n",
    "# Combine ts1 + ts2: sum12\n",
    "sum12 = ts1 + ts2\n",
    "\n",
    "# Combine ts1 + ts3: sum13\n",
    "sum13 = ts1 + ts3\n",
    "\n",
    "# Combine ts1 + ts4: sum14\n",
    "sum14 = ts1 + ts4"
   ]
  },
  {
   "cell_type": "code",
   "execution_count": 171,
   "metadata": {},
   "outputs": [
    {
     "data": {
      "text/plain": [
       "Date\n",
       "2010-07-04 00:00:00   NaN\n",
       "2010-07-04 01:00:00   NaN\n",
       "2010-07-04 02:00:00   NaN\n",
       "2010-07-04 03:00:00   NaN\n",
       "2010-07-04 04:00:00   NaN\n",
       "2010-07-04 05:00:00   NaN\n",
       "2010-07-04 06:00:00   NaN\n",
       "2010-07-04 07:00:00   NaN\n",
       "2010-07-04 08:00:00   NaN\n",
       "2010-07-04 09:00:00   NaN\n",
       "2010-07-04 10:00:00   NaN\n",
       "2010-07-04 11:00:00   NaN\n",
       "2010-07-04 12:00:00   NaN\n",
       "2010-07-04 13:00:00   NaN\n",
       "2010-07-04 14:00:00   NaN\n",
       "2010-07-04 15:00:00   NaN\n",
       "2010-07-04 16:00:00   NaN\n",
       "2010-07-04 17:00:00   NaN\n",
       "2010-07-04 18:00:00   NaN\n",
       "2010-07-04 19:00:00   NaN\n",
       "2010-07-04 20:00:00   NaN\n",
       "2010-07-04 21:00:00   NaN\n",
       "2010-07-04 22:00:00   NaN\n",
       "2010-07-04 23:00:00   NaN\n",
       "2010-10-11 21:00:00   NaN\n",
       "2010-10-11 22:00:00   NaN\n",
       "Name: Temperature, dtype: float64"
      ]
     },
     "execution_count": 171,
     "metadata": {},
     "output_type": "execute_result"
    }
   ],
   "source": [
    "sum12"
   ]
  },
  {
   "cell_type": "markdown",
   "metadata": {},
   "source": [
    "Understanding how indexing and reindexing works is a valuable skill.\n",
    "\n"
   ]
  },
  {
   "cell_type": "code",
   "execution_count": null,
   "metadata": {
    "collapsed": true
   },
   "outputs": [],
   "source": []
  },
  {
   "cell_type": "code",
   "execution_count": null,
   "metadata": {
    "collapsed": true
   },
   "outputs": [],
   "source": []
  },
  {
   "cell_type": "markdown",
   "metadata": {},
   "source": [
    "# Resampling Time Series Data\n",
    "\n",
    "Use Statistical methods computed over different time intervals.\n",
    "- Mean, Sum, Count, etc..\n",
    "- Aggregating Means\n",
    "- D = Daily\n",
    "- Method Chaining - chain with the Mean method.  Best practice to chain a statistic\n",
    "\n",
    "Downsampling\n",
    "- reduce datetime rows to slower frequency\n",
    "- going from Daily to Weekly\n",
    "\n",
    "Upsampling\n",
    "- increase datetime rows to faster frequency\n",
    "- going from Daily to Hourly\n",
    "- chain ffill() or bfill()\n",
    "\n",
    "Common Resampling intervals:\n",
    "- 'min', 'T' = minute\n",
    "- 'H'\n",
    "- 'D'\n",
    "- 'B' = Business Day\n",
    "- 'W'\n",
    "- 'M' \n",
    "- 'Q'\n",
    "- 'A'\n",
    "\n",
    "You can use multiple freqencies with integers\n",
    "- for example, '2W' = resample every 2 week intervals\n",
    "\n",
    "Rolling Method\n",
    "- very similar to Moving Averages\n",
    "- rolling()\n",
    "- you must always use method chaining, first calling .rolling() and then chaining an aggregation method after it. \n",
    "    - For example, with a Series hourly_data, hourly_data.rolling(window=24).mean() would compute new values for each hourly point, based on a 24-hour window stretching out behind each point. The frequency of the output data is the same: it is still hourly. Such an operation is useful for smoothing time series data."
   ]
  },
  {
   "cell_type": "code",
   "execution_count": 172,
   "metadata": {},
   "outputs": [
    {
     "data": {
      "text/html": [
       "<div>\n",
       "<style>\n",
       "    .dataframe thead tr:only-child th {\n",
       "        text-align: right;\n",
       "    }\n",
       "\n",
       "    .dataframe thead th {\n",
       "        text-align: left;\n",
       "    }\n",
       "\n",
       "    .dataframe tbody tr th {\n",
       "        vertical-align: top;\n",
       "    }\n",
       "</style>\n",
       "<table border=\"1\" class=\"dataframe\">\n",
       "  <thead>\n",
       "    <tr style=\"text-align: right;\">\n",
       "      <th></th>\n",
       "      <th>Company</th>\n",
       "      <th>Product</th>\n",
       "      <th>Units</th>\n",
       "    </tr>\n",
       "    <tr>\n",
       "      <th>Date</th>\n",
       "      <th></th>\n",
       "      <th></th>\n",
       "      <th></th>\n",
       "    </tr>\n",
       "  </thead>\n",
       "  <tbody>\n",
       "    <tr>\n",
       "      <th>2015-02-26 08:57:45</th>\n",
       "      <td>Streeplex</td>\n",
       "      <td>Service</td>\n",
       "      <td>4</td>\n",
       "    </tr>\n",
       "    <tr>\n",
       "      <th>2015-02-16 12:09:19</th>\n",
       "      <td>Hooli</td>\n",
       "      <td>Software</td>\n",
       "      <td>10</td>\n",
       "    </tr>\n",
       "    <tr>\n",
       "      <th>2015-02-03 14:14:18</th>\n",
       "      <td>Initech</td>\n",
       "      <td>Software</td>\n",
       "      <td>13</td>\n",
       "    </tr>\n",
       "    <tr>\n",
       "      <th>2015-02-02 08:33:01</th>\n",
       "      <td>Hooli</td>\n",
       "      <td>Software</td>\n",
       "      <td>3</td>\n",
       "    </tr>\n",
       "    <tr>\n",
       "      <th>2015-02-25 00:29:00</th>\n",
       "      <td>Initech</td>\n",
       "      <td>Service</td>\n",
       "      <td>10</td>\n",
       "    </tr>\n",
       "  </tbody>\n",
       "</table>\n",
       "</div>"
      ],
      "text/plain": [
       "                       Company   Product  Units\n",
       "Date                                           \n",
       "2015-02-26 08:57:45  Streeplex   Service      4\n",
       "2015-02-16 12:09:19      Hooli  Software     10\n",
       "2015-02-03 14:14:18    Initech  Software     13\n",
       "2015-02-02 08:33:01      Hooli  Software      3\n",
       "2015-02-25 00:29:00    Initech   Service     10"
      ]
     },
     "execution_count": 172,
     "metadata": {},
     "output_type": "execute_result"
    }
   ],
   "source": [
    "sales.head()"
   ]
  },
  {
   "cell_type": "markdown",
   "metadata": {},
   "source": [
    "## Downsampling"
   ]
  },
  {
   "cell_type": "code",
   "execution_count": 173,
   "metadata": {},
   "outputs": [
    {
     "data": {
      "text/html": [
       "<div>\n",
       "<style>\n",
       "    .dataframe thead tr:only-child th {\n",
       "        text-align: right;\n",
       "    }\n",
       "\n",
       "    .dataframe thead th {\n",
       "        text-align: left;\n",
       "    }\n",
       "\n",
       "    .dataframe tbody tr th {\n",
       "        vertical-align: top;\n",
       "    }\n",
       "</style>\n",
       "<table border=\"1\" class=\"dataframe\">\n",
       "  <thead>\n",
       "    <tr style=\"text-align: right;\">\n",
       "      <th></th>\n",
       "      <th>Units</th>\n",
       "    </tr>\n",
       "    <tr>\n",
       "      <th>Date</th>\n",
       "      <th></th>\n",
       "    </tr>\n",
       "  </thead>\n",
       "  <tbody>\n",
       "    <tr>\n",
       "      <th>2015-02-02</th>\n",
       "      <td>6.0</td>\n",
       "    </tr>\n",
       "    <tr>\n",
       "      <th>2015-02-03</th>\n",
       "      <td>13.0</td>\n",
       "    </tr>\n",
       "    <tr>\n",
       "      <th>2015-02-04</th>\n",
       "      <td>13.5</td>\n",
       "    </tr>\n",
       "    <tr>\n",
       "      <th>2015-02-05</th>\n",
       "      <td>14.5</td>\n",
       "    </tr>\n",
       "    <tr>\n",
       "      <th>2015-02-06</th>\n",
       "      <td>NaN</td>\n",
       "    </tr>\n",
       "  </tbody>\n",
       "</table>\n",
       "</div>"
      ],
      "text/plain": [
       "            Units\n",
       "Date             \n",
       "2015-02-02    6.0\n",
       "2015-02-03   13.0\n",
       "2015-02-04   13.5\n",
       "2015-02-05   14.5\n",
       "2015-02-06    NaN"
      ]
     },
     "execution_count": 173,
     "metadata": {},
     "output_type": "execute_result"
    }
   ],
   "source": [
    "# Returns Daily frequency with the average # of unit sold each day\n",
    "# Aggregating Means\n",
    "# D = Daily\n",
    "# Chained with the Mean method.  Best practice to chain a statistic\n",
    "\n",
    "daily_mean = sales.resample('D').mean()\n",
    "\n",
    "daily_mean.head()"
   ]
  },
  {
   "cell_type": "markdown",
   "metadata": {},
   "source": [
    "Notice missing days are filled with NaN - this can be changed"
   ]
  },
  {
   "cell_type": "code",
   "execution_count": 174,
   "metadata": {},
   "outputs": [
    {
     "data": {
      "text/html": [
       "<div>\n",
       "<style>\n",
       "    .dataframe thead tr:only-child th {\n",
       "        text-align: right;\n",
       "    }\n",
       "\n",
       "    .dataframe thead th {\n",
       "        text-align: left;\n",
       "    }\n",
       "\n",
       "    .dataframe tbody tr th {\n",
       "        vertical-align: top;\n",
       "    }\n",
       "</style>\n",
       "<table border=\"1\" class=\"dataframe\">\n",
       "  <thead>\n",
       "    <tr style=\"text-align: right;\">\n",
       "      <th></th>\n",
       "      <th>Units</th>\n",
       "    </tr>\n",
       "    <tr>\n",
       "      <th>Date</th>\n",
       "      <th></th>\n",
       "    </tr>\n",
       "  </thead>\n",
       "  <tbody>\n",
       "    <tr>\n",
       "      <th>2015-02-02</th>\n",
       "      <td>12.0</td>\n",
       "    </tr>\n",
       "    <tr>\n",
       "      <th>2015-02-03</th>\n",
       "      <td>13.0</td>\n",
       "    </tr>\n",
       "    <tr>\n",
       "      <th>2015-02-04</th>\n",
       "      <td>27.0</td>\n",
       "    </tr>\n",
       "    <tr>\n",
       "      <th>2015-02-05</th>\n",
       "      <td>29.0</td>\n",
       "    </tr>\n",
       "    <tr>\n",
       "      <th>2015-02-06</th>\n",
       "      <td>NaN</td>\n",
       "    </tr>\n",
       "  </tbody>\n",
       "</table>\n",
       "</div>"
      ],
      "text/plain": [
       "            Units\n",
       "Date             \n",
       "2015-02-02   12.0\n",
       "2015-02-03   13.0\n",
       "2015-02-04   27.0\n",
       "2015-02-05   29.0\n",
       "2015-02-06    NaN"
      ]
     },
     "execution_count": 174,
     "metadata": {},
     "output_type": "execute_result"
    }
   ],
   "source": [
    "# Gives you daily totals\n",
    "\n",
    "sales.resample('D').sum().head()"
   ]
  },
  {
   "cell_type": "markdown",
   "metadata": {},
   "source": [
    "#### Method Chaining\n",
    "\n",
    "Multiple Chaining methods"
   ]
  },
  {
   "cell_type": "code",
   "execution_count": 175,
   "metadata": {},
   "outputs": [
    {
     "data": {
      "text/plain": [
       "Units    29.0\n",
       "dtype: float64"
      ]
     },
     "execution_count": 175,
     "metadata": {},
     "output_type": "execute_result"
    }
   ],
   "source": [
    "# Max total in any day in February\n",
    "\n",
    "sales.resample('D').sum().max()"
   ]
  },
  {
   "cell_type": "code",
   "execution_count": 176,
   "metadata": {},
   "outputs": [
    {
     "data": {
      "text/html": [
       "<div>\n",
       "<style>\n",
       "    .dataframe thead tr:only-child th {\n",
       "        text-align: right;\n",
       "    }\n",
       "\n",
       "    .dataframe thead th {\n",
       "        text-align: left;\n",
       "    }\n",
       "\n",
       "    .dataframe tbody tr th {\n",
       "        vertical-align: top;\n",
       "    }\n",
       "</style>\n",
       "<table border=\"1\" class=\"dataframe\">\n",
       "  <thead>\n",
       "    <tr style=\"text-align: right;\">\n",
       "      <th></th>\n",
       "      <th>Company</th>\n",
       "      <th>Product</th>\n",
       "      <th>Units</th>\n",
       "    </tr>\n",
       "    <tr>\n",
       "      <th>Date</th>\n",
       "      <th></th>\n",
       "      <th></th>\n",
       "      <th></th>\n",
       "    </tr>\n",
       "  </thead>\n",
       "  <tbody>\n",
       "    <tr>\n",
       "      <th>2015-02-08</th>\n",
       "      <td>8</td>\n",
       "      <td>8</td>\n",
       "      <td>8</td>\n",
       "    </tr>\n",
       "    <tr>\n",
       "      <th>2015-02-15</th>\n",
       "      <td>4</td>\n",
       "      <td>4</td>\n",
       "      <td>4</td>\n",
       "    </tr>\n",
       "    <tr>\n",
       "      <th>2015-02-22</th>\n",
       "      <td>5</td>\n",
       "      <td>5</td>\n",
       "      <td>5</td>\n",
       "    </tr>\n",
       "    <tr>\n",
       "      <th>2015-03-01</th>\n",
       "      <td>3</td>\n",
       "      <td>3</td>\n",
       "      <td>3</td>\n",
       "    </tr>\n",
       "  </tbody>\n",
       "</table>\n",
       "</div>"
      ],
      "text/plain": [
       "            Company  Product  Units\n",
       "Date                               \n",
       "2015-02-08        8        8      8\n",
       "2015-02-15        4        4      4\n",
       "2015-02-22        5        5      5\n",
       "2015-03-01        3        3      3"
      ]
     },
     "execution_count": 176,
     "metadata": {},
     "output_type": "execute_result"
    }
   ],
   "source": [
    "# Number of sales each week in February\n",
    "\n",
    "sales.resample('W').count()"
   ]
  },
  {
   "cell_type": "markdown",
   "metadata": {},
   "source": [
    "#### Multiplying Frequencies"
   ]
  },
  {
   "cell_type": "code",
   "execution_count": 177,
   "metadata": {},
   "outputs": [
    {
     "data": {
      "text/plain": [
       "Date\n",
       "2015-02-08    82\n",
       "2015-02-22    79\n",
       "2015-03-08    15\n",
       "Freq: 2W-SUN, Name: Units, dtype: int64"
      ]
     },
     "execution_count": 177,
     "metadata": {},
     "output_type": "execute_result"
    }
   ],
   "source": [
    "# Total number of sales in 2 week intervals\n",
    "\n",
    "sales.loc[:, 'Units'].resample('2W').sum()"
   ]
  },
  {
   "cell_type": "code",
   "execution_count": null,
   "metadata": {
    "collapsed": true
   },
   "outputs": [],
   "source": []
  },
  {
   "cell_type": "markdown",
   "metadata": {},
   "source": [
    "## Upsampling\n",
    "\n",
    "exp: upsampling from daily to hourly\n",
    "- or hourly to minute"
   ]
  },
  {
   "cell_type": "code",
   "execution_count": 178,
   "metadata": {
    "collapsed": true
   },
   "outputs": [],
   "source": [
    "two_days = sales.loc['2015-2-4': '2015-2-5', 'Units']"
   ]
  },
  {
   "cell_type": "code",
   "execution_count": 179,
   "metadata": {},
   "outputs": [
    {
     "data": {
      "text/plain": [
       "Date\n",
       "2015-02-05 01:53:06    19\n",
       "2015-02-04 21:52:45    14\n",
       "2015-02-05 22:05:03    10\n",
       "2015-02-04 15:36:29    13\n",
       "Name: Units, dtype: int64"
      ]
     },
     "execution_count": 179,
     "metadata": {},
     "output_type": "execute_result"
    }
   ],
   "source": [
    "two_days"
   ]
  },
  {
   "cell_type": "code",
   "execution_count": 180,
   "metadata": {},
   "outputs": [
    {
     "data": {
      "text/plain": [
       "Date\n",
       "2015-02-04 12:00:00     NaN\n",
       "2015-02-04 16:00:00    13.0\n",
       "2015-02-04 20:00:00    13.0\n",
       "2015-02-05 00:00:00    14.0\n",
       "2015-02-05 04:00:00    19.0\n",
       "2015-02-05 08:00:00    19.0\n",
       "2015-02-05 12:00:00    19.0\n",
       "2015-02-05 16:00:00    19.0\n",
       "2015-02-05 20:00:00    19.0\n",
       "Freq: 4H, Name: Units, dtype: float64"
      ]
     },
     "execution_count": 180,
     "metadata": {},
     "output_type": "execute_result"
    }
   ],
   "source": [
    "# resample every 4 hours\n",
    "# Chain ffill() with forward fill method, or Interpolation\n",
    "\n",
    "two_days.resample('4H').ffill()"
   ]
  },
  {
   "cell_type": "code",
   "execution_count": null,
   "metadata": {
    "collapsed": true
   },
   "outputs": [],
   "source": []
  },
  {
   "cell_type": "markdown",
   "metadata": {},
   "source": [
    "#### Resampling and frequency\n",
    "\n",
    "Pandas provides methods for resampling time series data. When downsampling or upsampling, the syntax is similar, but the methods called are different. Both use the concept of 'method chaining' - df.method1().method2().method3() - to direct the output from one method call to the input of the next, and so on, as a sequence of operations, one feeding into the next.\n",
    "\n",
    "For example, if you have hourly data, and just need daily data, pandas will not guess how to throw out the 23 of 24 points. You must specify this in the method. One approach, for instance, could be to take the mean, as in df.resample('D').mean().\n",
    "\n",
    "In this exercise, a data set containing hourly temperature data has been pre-loaded for you. Your job is to resample the data using a variety of aggregation methods to answer a few questions."
   ]
  },
  {
   "cell_type": "code",
   "execution_count": 181,
   "metadata": {
    "collapsed": true
   },
   "outputs": [],
   "source": [
    "df = weather"
   ]
  },
  {
   "cell_type": "code",
   "execution_count": 182,
   "metadata": {},
   "outputs": [
    {
     "data": {
      "text/plain": [
       "Date\n",
       "2010-01-01 00:00:00    44.200000\n",
       "2010-01-01 06:00:00    45.933333\n",
       "2010-01-01 12:00:00    57.766667\n",
       "2010-01-01 18:00:00    49.450000\n",
       "2010-01-02 00:00:00    44.516667\n",
       "Freq: 6H, Name: Temperature, dtype: float64"
      ]
     },
     "execution_count": 182,
     "metadata": {},
     "output_type": "execute_result"
    }
   ],
   "source": [
    "# Downsample to 6 hour data and aggregate by mean: df1\n",
    "df1 = df.loc[:, 'Temperature'].resample('6H').mean()\n",
    "\n",
    "df1.head()"
   ]
  },
  {
   "cell_type": "code",
   "execution_count": 183,
   "metadata": {},
   "outputs": [
    {
     "data": {
      "text/plain": [
       "Date\n",
       "2010-01-01    24\n",
       "2010-01-02    24\n",
       "2010-01-03    24\n",
       "2010-01-04    24\n",
       "2010-01-05    24\n",
       "Freq: D, Name: Temperature, dtype: int64"
      ]
     },
     "execution_count": 183,
     "metadata": {},
     "output_type": "execute_result"
    }
   ],
   "source": [
    "# Downsample to daily data and count the number of data points: df2\n",
    "df2 = df.loc[:, 'Temperature'].resample('D').count()\n",
    "\n",
    "df2.head()"
   ]
  },
  {
   "cell_type": "markdown",
   "metadata": {},
   "source": [
    "#### Separating and resampling\n",
    "\n",
    "With pandas, you can resample in different ways on different subsets of your data. For example, resampling different months of data with different aggregations. In this exercise, the data set containing hourly temperature data from the last exercise has been pre-loaded.\n",
    "\n",
    "Your job is to resample the data using a variety of aggregation methods. The DataFrame is available in the workspace as df. You will be working with the 'Temperature' column."
   ]
  },
  {
   "cell_type": "code",
   "execution_count": 184,
   "metadata": {
    "collapsed": true
   },
   "outputs": [],
   "source": [
    "august = df['2010-08'].loc[:, 'Temperature']"
   ]
  },
  {
   "cell_type": "code",
   "execution_count": 185,
   "metadata": {
    "scrolled": true
   },
   "outputs": [
    {
     "data": {
      "text/plain": [
       "Date\n",
       "2010-08-01    95.0\n",
       "2010-08-02    95.0\n",
       "2010-08-03    95.1\n",
       "2010-08-04    95.1\n",
       "2010-08-05    95.1\n",
       "2010-08-06    95.2\n",
       "2010-08-07    95.3\n",
       "2010-08-08    95.2\n",
       "2010-08-09    95.2\n",
       "2010-08-10    95.1\n",
       "2010-08-11    95.0\n",
       "2010-08-12    94.9\n",
       "2010-08-13    95.0\n",
       "2010-08-14    94.9\n",
       "2010-08-15    94.7\n",
       "2010-08-16    94.7\n",
       "2010-08-17    94.8\n",
       "2010-08-18    94.8\n",
       "2010-08-19    94.8\n",
       "2010-08-20    94.8\n",
       "2010-08-21    94.7\n",
       "2010-08-22    94.6\n",
       "2010-08-23    94.5\n",
       "2010-08-24    94.3\n",
       "2010-08-25    94.1\n",
       "2010-08-26    94.0\n",
       "2010-08-27    93.7\n",
       "2010-08-28    93.5\n",
       "2010-08-29    93.3\n",
       "2010-08-30    93.3\n",
       "2010-08-31    93.1\n",
       "Freq: D, Name: Temperature, dtype: float64"
      ]
     },
     "execution_count": 185,
     "metadata": {},
     "output_type": "execute_result"
    }
   ],
   "source": [
    "august_highs = august.resample('D').max()\n",
    "\n",
    "august_highs"
   ]
  },
  {
   "cell_type": "code",
   "execution_count": 186,
   "metadata": {
    "collapsed": true
   },
   "outputs": [],
   "source": [
    "# Extract temperature data for February: february\n",
    "february = df['2010-02'].loc[: ,'Temperature']"
   ]
  },
  {
   "cell_type": "code",
   "execution_count": 187,
   "metadata": {
    "scrolled": false
   },
   "outputs": [
    {
     "data": {
      "text/plain": [
       "Date\n",
       "2010-02-01    43.8\n",
       "2010-02-02    44.3\n",
       "2010-02-03    44.6\n",
       "2010-02-04    44.5\n",
       "2010-02-05    44.3\n",
       "2010-02-06    44.1\n",
       "2010-02-07    44.3\n",
       "2010-02-08    44.7\n",
       "2010-02-09    44.7\n",
       "2010-02-10    44.9\n",
       "2010-02-11    45.2\n",
       "2010-02-12    45.5\n",
       "2010-02-13    46.0\n",
       "2010-02-14    46.6\n",
       "2010-02-15    46.9\n",
       "2010-02-16    47.1\n",
       "2010-02-17    47.2\n",
       "2010-02-18    47.2\n",
       "2010-02-19    47.4\n",
       "2010-02-20    47.7\n",
       "2010-02-21    47.6\n",
       "2010-02-22    47.7\n",
       "2010-02-23    47.7\n",
       "2010-02-24    48.1\n",
       "2010-02-25    48.4\n",
       "2010-02-26    48.5\n",
       "2010-02-27    48.6\n",
       "2010-02-28    48.6\n",
       "Freq: D, Name: Temperature, dtype: float64"
      ]
     },
     "execution_count": 187,
     "metadata": {},
     "output_type": "execute_result"
    }
   ],
   "source": [
    "# Downsample to obtain the daily lowest temperatures in February: february_lows\n",
    "february_lows = february.resample('D').min()\n",
    "\n",
    "february_lows"
   ]
  },
  {
   "cell_type": "code",
   "execution_count": null,
   "metadata": {
    "collapsed": true
   },
   "outputs": [],
   "source": []
  },
  {
   "cell_type": "markdown",
   "metadata": {},
   "source": [
    "#### Rolling mean and frequency with .rolling() method\n",
    "\n",
    "In this exercise, some hourly weather data is pre-loaded for you. You will continue to practice resampling, this time using rolling means.\n",
    "\n",
    "Rolling means (or moving averages) are generally used to smooth out short-term fluctuations in time series data and highlight long-term trends. You can read more about them here.\n",
    "\n",
    "To use the .rolling() method, you must always use method chaining, first calling .rolling() and then chaining an aggregation method after it. For example, with a Series hourly_data, hourly_data.rolling(window=24).mean() would compute new values for each hourly point, based on a 24-hour window stretching out behind each point. The frequency of the output data is the same: it is still hourly. Such an operation is useful for smoothing time series data.\n",
    "\n",
    "Your job is to resample the data using the combination of .rolling() and .mean(). You will work with the same DataFrame df from the previous exercise."
   ]
  },
  {
   "cell_type": "code",
   "execution_count": 188,
   "metadata": {},
   "outputs": [
    {
     "data": {
      "text/plain": [
       "Date\n",
       "2010-08-01 00:00:00    79.0\n",
       "2010-08-01 01:00:00    77.4\n",
       "2010-08-01 02:00:00    76.4\n",
       "2010-08-01 03:00:00    75.7\n",
       "2010-08-01 04:00:00    75.1\n",
       "Name: Temperature, dtype: float64"
      ]
     },
     "execution_count": 188,
     "metadata": {},
     "output_type": "execute_result"
    }
   ],
   "source": [
    "# Extract data from 2010-Aug-01 to 2010-Aug-15: unsmoothed\n",
    "unsmoothed = df['Temperature']['2010-Aug-01':'2010-Aug-15']\n",
    "\n",
    "unsmoothed.head()"
   ]
  },
  {
   "cell_type": "code",
   "execution_count": 189,
   "metadata": {},
   "outputs": [
    {
     "data": {
      "text/plain": [
       "Date\n",
       "2010-08-02 00:00:00    84.354167\n",
       "2010-08-02 01:00:00    84.354167\n",
       "2010-08-02 02:00:00    84.358333\n",
       "2010-08-02 03:00:00    84.362500\n",
       "2010-08-02 04:00:00    84.366667\n",
       "2010-08-02 05:00:00    84.366667\n",
       "2010-08-02 06:00:00    84.370833\n",
       "2010-08-02 07:00:00    84.375000\n",
       "2010-08-02 08:00:00    84.375000\n",
       "2010-08-02 09:00:00    84.375000\n",
       "2010-08-02 10:00:00    84.370833\n",
       "2010-08-02 11:00:00    84.375000\n",
       "Name: Temperature, dtype: float64"
      ]
     },
     "execution_count": 189,
     "metadata": {},
     "output_type": "execute_result"
    }
   ],
   "source": [
    "# Apply a rolling mean with a 24 hour window: smoothed\n",
    "smoothed = unsmoothed.rolling(window=24).mean()\n",
    "\n",
    "smoothed[24:36]"
   ]
  },
  {
   "cell_type": "code",
   "execution_count": 190,
   "metadata": {
    "collapsed": true
   },
   "outputs": [],
   "source": [
    "# Create a new DataFrame with columns smoothed and unsmoothed: august\n",
    "august = pd.DataFrame({'smoothed':smoothed, 'unsmoothed':unsmoothed})"
   ]
  },
  {
   "cell_type": "code",
   "execution_count": 191,
   "metadata": {},
   "outputs": [
    {
     "data": {
      "image/png": "[encoded data removed]",
      "text/plain": [
       "<matplotlib.figure.Figure at 0x111160ba8>"
      ]
     },
     "metadata": {},
     "output_type": "display_data"
    }
   ],
   "source": [
    "# Plot both smoothed and unsmoothed data using august.plot().\n",
    "august.plot()\n",
    "plt.show()"
   ]
  },
  {
   "cell_type": "code",
   "execution_count": null,
   "metadata": {
    "collapsed": true
   },
   "outputs": [],
   "source": []
  },
  {
   "cell_type": "markdown",
   "metadata": {},
   "source": [
    "#### Resample and roll with it\n",
    "\n",
    "As of pandas version 0.18.0, the interface for applying rolling transformations to time series has become more consistent and flexible, and feels somewhat like a groupby (If you do not know what a groupby is, don't worry, you will learn about it in the next course!).\n",
    "\n",
    "You can now flexibly chain together resampling and rolling operations. In this exercise, the same weather data from the previous exercises has been pre-loaded for you. Your job is to extract one month of data, resample to find the daily high temperatures, and then use a rolling and aggregation operation to smooth the data."
   ]
  },
  {
   "cell_type": "code",
   "execution_count": 192,
   "metadata": {
    "collapsed": true
   },
   "outputs": [],
   "source": [
    "# Extract the August 2010 data: august\n",
    "august = df['Temperature']['2010-8']"
   ]
  },
  {
   "cell_type": "code",
   "execution_count": 193,
   "metadata": {
    "collapsed": true
   },
   "outputs": [],
   "source": [
    "# Resample to daily data, aggregating by max: daily_highs\n",
    "daily_highs = august.resample('D').max()"
   ]
  },
  {
   "cell_type": "code",
   "execution_count": 194,
   "metadata": {},
   "outputs": [
    {
     "name": "stdout",
     "output_type": "stream",
     "text": [
      "Date\n",
      "2010-08-01          NaN\n",
      "2010-08-02          NaN\n",
      "2010-08-03          NaN\n",
      "2010-08-04          NaN\n",
      "2010-08-05          NaN\n",
      "2010-08-06          NaN\n",
      "2010-08-07    95.114286\n",
      "2010-08-08    95.142857\n",
      "2010-08-09    95.171429\n",
      "2010-08-10    95.171429\n",
      "2010-08-11    95.157143\n",
      "2010-08-12    95.128571\n",
      "2010-08-13    95.100000\n",
      "2010-08-14    95.042857\n",
      "2010-08-15    94.971429\n",
      "2010-08-16    94.900000\n",
      "2010-08-17    94.857143\n",
      "2010-08-18    94.828571\n",
      "2010-08-19    94.814286\n",
      "2010-08-20    94.785714\n",
      "2010-08-21    94.757143\n",
      "2010-08-22    94.742857\n",
      "2010-08-23    94.714286\n",
      "2010-08-24    94.642857\n",
      "2010-08-25    94.542857\n",
      "2010-08-26    94.428571\n",
      "2010-08-27    94.271429\n",
      "2010-08-28    94.100000\n",
      "2010-08-29    93.914286\n",
      "2010-08-30    93.742857\n",
      "2010-08-31    93.571429\n",
      "Freq: D, Name: Temperature, dtype: float64\n"
     ]
    }
   ],
   "source": [
    "# Use a rolling 7-day window with method chaining to smooth the daily high temperatures in August\n",
    "daily_highs_smoothed = daily_highs.rolling(window=7).mean()\n",
    "print(daily_highs_smoothed)"
   ]
  },
  {
   "cell_type": "code",
   "execution_count": null,
   "metadata": {
    "collapsed": true
   },
   "outputs": [],
   "source": []
  },
  {
   "cell_type": "code",
   "execution_count": null,
   "metadata": {
    "collapsed": true
   },
   "outputs": [],
   "source": []
  },
  {
   "cell_type": "markdown",
   "metadata": {
    "collapsed": true
   },
   "source": [
    "# Manipulating Time Series Data\n",
    "\n",
    "#### String Methods\n",
    "- str.upper()\n",
    "- str.contains('ware')  to perform keyword searches\n",
    "\n",
    "#### Datetime Methods\n",
    "- .dt.hour returns the hour\n",
    "- dt.tz_localize('US/Central') - set timezones\n",
    "- dt.tz_convert('US/Eastern') - converts to another timezone\n",
    "\n",
    "#### Interpolate Missing Data\n",
    "- resample('A').first().interpolate('linear')\n"
   ]
  },
  {
   "cell_type": "code",
   "execution_count": 195,
   "metadata": {
    "collapsed": true
   },
   "outputs": [],
   "source": [
    "sales = pd.read_csv('./data/sales-feb-2015.csv',\n",
    "                    parse_dates = ['Date'])"
   ]
  },
  {
   "cell_type": "code",
   "execution_count": 196,
   "metadata": {},
   "outputs": [
    {
     "data": {
      "text/html": [
       "<div>\n",
       "<style>\n",
       "    .dataframe thead tr:only-child th {\n",
       "        text-align: right;\n",
       "    }\n",
       "\n",
       "    .dataframe thead th {\n",
       "        text-align: left;\n",
       "    }\n",
       "\n",
       "    .dataframe tbody tr th {\n",
       "        vertical-align: top;\n",
       "    }\n",
       "</style>\n",
       "<table border=\"1\" class=\"dataframe\">\n",
       "  <thead>\n",
       "    <tr style=\"text-align: right;\">\n",
       "      <th></th>\n",
       "      <th>Date</th>\n",
       "      <th>Company</th>\n",
       "      <th>Product</th>\n",
       "      <th>Units</th>\n",
       "    </tr>\n",
       "  </thead>\n",
       "  <tbody>\n",
       "    <tr>\n",
       "      <th>0</th>\n",
       "      <td>2015-02-26 08:57:45</td>\n",
       "      <td>Streeplex</td>\n",
       "      <td>Service</td>\n",
       "      <td>4</td>\n",
       "    </tr>\n",
       "    <tr>\n",
       "      <th>1</th>\n",
       "      <td>2015-02-16 12:09:19</td>\n",
       "      <td>Hooli</td>\n",
       "      <td>Software</td>\n",
       "      <td>10</td>\n",
       "    </tr>\n",
       "    <tr>\n",
       "      <th>2</th>\n",
       "      <td>2015-02-03 14:14:18</td>\n",
       "      <td>Initech</td>\n",
       "      <td>Software</td>\n",
       "      <td>13</td>\n",
       "    </tr>\n",
       "    <tr>\n",
       "      <th>3</th>\n",
       "      <td>2015-02-02 08:33:01</td>\n",
       "      <td>Hooli</td>\n",
       "      <td>Software</td>\n",
       "      <td>3</td>\n",
       "    </tr>\n",
       "    <tr>\n",
       "      <th>4</th>\n",
       "      <td>2015-02-25 00:29:00</td>\n",
       "      <td>Initech</td>\n",
       "      <td>Service</td>\n",
       "      <td>10</td>\n",
       "    </tr>\n",
       "  </tbody>\n",
       "</table>\n",
       "</div>"
      ],
      "text/plain": [
       "                 Date    Company   Product  Units\n",
       "0 2015-02-26 08:57:45  Streeplex   Service      4\n",
       "1 2015-02-16 12:09:19      Hooli  Software     10\n",
       "2 2015-02-03 14:14:18    Initech  Software     13\n",
       "3 2015-02-02 08:33:01      Hooli  Software      3\n",
       "4 2015-02-25 00:29:00    Initech   Service     10"
      ]
     },
     "execution_count": 196,
     "metadata": {},
     "output_type": "execute_result"
    }
   ],
   "source": [
    "sales.head()"
   ]
  },
  {
   "cell_type": "code",
   "execution_count": 197,
   "metadata": {},
   "outputs": [
    {
     "data": {
      "text/plain": [
       "0           STREEPLEX\n",
       "1               HOOLI\n",
       "2             INITECH\n",
       "3               HOOLI\n",
       "4             INITECH\n",
       "5     ACME COPORATION\n",
       "6           STREEPLEX\n",
       "7             INITECH\n",
       "8     ACME COPORATION\n",
       "9           MEDIACORE\n",
       "10    ACME COPORATION\n",
       "11              HOOLI\n",
       "12          STREEPLEX\n",
       "13              HOOLI\n",
       "14          STREEPLEX\n",
       "15          MEDIACORE\n",
       "16          MEDIACORE\n",
       "17          MEDIACORE\n",
       "18          MEDIACORE\n",
       "19              HOOLI\n",
       "Name: Company, dtype: object"
      ]
     },
     "execution_count": 197,
     "metadata": {},
     "output_type": "execute_result"
    }
   ],
   "source": [
    "sales['Company'].str.upper()"
   ]
  },
  {
   "cell_type": "code",
   "execution_count": 198,
   "metadata": {},
   "outputs": [
    {
     "data": {
      "text/plain": [
       "0     False\n",
       "1      True\n",
       "2      True\n",
       "3      True\n",
       "4     False\n",
       "5      True\n",
       "6     False\n",
       "7      True\n",
       "8      True\n",
       "9      True\n",
       "10     True\n",
       "11     True\n",
       "12    False\n",
       "13    False\n",
       "14     True\n",
       "15    False\n",
       "16     True\n",
       "17     True\n",
       "18     True\n",
       "19     True\n",
       "Name: Product, dtype: bool"
      ]
     },
     "execution_count": 198,
     "metadata": {},
     "output_type": "execute_result"
    }
   ],
   "source": [
    "# returns rows that are both software and hardware\n",
    "\n",
    "sales['Product'].str.contains('ware')"
   ]
  },
  {
   "cell_type": "markdown",
   "metadata": {},
   "source": [
    "#### Boolean Arithmetic\n",
    "\n",
    "- True = 1\n",
    "- False = 0"
   ]
  },
  {
   "cell_type": "code",
   "execution_count": 199,
   "metadata": {},
   "outputs": [
    {
     "data": {
      "text/plain": [
       "1"
      ]
     },
     "execution_count": 199,
     "metadata": {},
     "output_type": "execute_result"
    }
   ],
   "source": [
    "True + False"
   ]
  },
  {
   "cell_type": "code",
   "execution_count": 200,
   "metadata": {},
   "outputs": [
    {
     "data": {
      "text/plain": [
       "2"
      ]
     },
     "execution_count": 200,
     "metadata": {},
     "output_type": "execute_result"
    }
   ],
   "source": [
    "True + True"
   ]
  },
  {
   "cell_type": "code",
   "execution_count": 201,
   "metadata": {},
   "outputs": [
    {
     "data": {
      "text/plain": [
       "0"
      ]
     },
     "execution_count": 201,
     "metadata": {},
     "output_type": "execute_result"
    }
   ],
   "source": [
    "False + False"
   ]
  },
  {
   "cell_type": "code",
   "execution_count": 202,
   "metadata": {},
   "outputs": [
    {
     "data": {
      "text/plain": [
       "14"
      ]
     },
     "execution_count": 202,
     "metadata": {},
     "output_type": "execute_result"
    }
   ],
   "source": [
    "# There are 14 products with contains 'ware'\n",
    "\n",
    "sales['Product'].str.contains('ware').sum()"
   ]
  },
  {
   "cell_type": "code",
   "execution_count": 203,
   "metadata": {},
   "outputs": [
    {
     "data": {
      "text/plain": [
       "0      8\n",
       "1     12\n",
       "2     14\n",
       "3      8\n",
       "4      0\n",
       "5      1\n",
       "6      8\n",
       "7     20\n",
       "8     21\n",
       "9     13\n",
       "10    22\n",
       "11    22\n",
       "12     8\n",
       "13    22\n",
       "14    15\n",
       "15    16\n",
       "16    10\n",
       "17    20\n",
       "18     5\n",
       "19    20\n",
       "Name: Date, dtype: int64"
      ]
     },
     "execution_count": 203,
     "metadata": {},
     "output_type": "execute_result"
    }
   ],
   "source": [
    "# Returns hours where 0 is midnight, and 23 is 11pm\n",
    "\n",
    "sales['Date'].dt.hour"
   ]
  },
  {
   "cell_type": "code",
   "execution_count": 204,
   "metadata": {
    "collapsed": true
   },
   "outputs": [],
   "source": [
    "# Austin data is Texas based, so setting time zone to Central US\n",
    "\n",
    "central = sales['Date'].dt.tz_localize('US/Central')\n"
   ]
  },
  {
   "cell_type": "code",
   "execution_count": 205,
   "metadata": {},
   "outputs": [
    {
     "data": {
      "text/plain": [
       "0    2015-02-26 08:57:45-06:00\n",
       "1    2015-02-16 12:09:19-06:00\n",
       "2    2015-02-03 14:14:18-06:00\n",
       "3    2015-02-02 08:33:01-06:00\n",
       "4    2015-02-25 00:29:00-06:00\n",
       "5    2015-02-05 01:53:06-06:00\n",
       "6    2015-02-09 08:57:30-06:00\n",
       "7    2015-02-11 20:03:08-06:00\n",
       "8    2015-02-04 21:52:45-06:00\n",
       "9    2015-02-09 13:09:55-06:00\n",
       "10   2015-02-07 22:58:10-06:00\n",
       "11   2015-02-11 22:50:44-06:00\n",
       "12   2015-02-26 08:58:51-06:00\n",
       "13   2015-02-05 22:05:03-06:00\n",
       "14   2015-02-04 15:36:29-06:00\n",
       "15   2015-02-19 16:02:58-06:00\n",
       "16   2015-02-19 10:59:33-06:00\n",
       "17   2015-02-02 20:54:49-06:00\n",
       "18   2015-02-21 05:01:26-06:00\n",
       "19   2015-02-21 20:41:47-06:00\n",
       "Name: Date, dtype: datetime64[ns, US/Central]"
      ]
     },
     "execution_count": 205,
     "metadata": {},
     "output_type": "execute_result"
    }
   ],
   "source": [
    "central"
   ]
  },
  {
   "cell_type": "code",
   "execution_count": 206,
   "metadata": {},
   "outputs": [
    {
     "data": {
      "text/plain": [
       "0    2015-02-26 09:57:45-05:00\n",
       "1    2015-02-16 13:09:19-05:00\n",
       "2    2015-02-03 15:14:18-05:00\n",
       "3    2015-02-02 09:33:01-05:00\n",
       "4    2015-02-25 01:29:00-05:00\n",
       "5    2015-02-05 02:53:06-05:00\n",
       "6    2015-02-09 09:57:30-05:00\n",
       "7    2015-02-11 21:03:08-05:00\n",
       "8    2015-02-04 22:52:45-05:00\n",
       "9    2015-02-09 14:09:55-05:00\n",
       "10   2015-02-07 23:58:10-05:00\n",
       "11   2015-02-11 23:50:44-05:00\n",
       "12   2015-02-26 09:58:51-05:00\n",
       "13   2015-02-05 23:05:03-05:00\n",
       "14   2015-02-04 16:36:29-05:00\n",
       "15   2015-02-19 17:02:58-05:00\n",
       "16   2015-02-19 11:59:33-05:00\n",
       "17   2015-02-02 21:54:49-05:00\n",
       "18   2015-02-21 06:01:26-05:00\n",
       "19   2015-02-21 21:41:47-05:00\n",
       "Name: Date, dtype: datetime64[ns, US/Eastern]"
      ]
     },
     "execution_count": 206,
     "metadata": {},
     "output_type": "execute_result"
    }
   ],
   "source": [
    "sales['Date'].dt.tz_localize('US/Central').dt.tz_convert('US/Eastern')\n"
   ]
  },
  {
   "cell_type": "code",
   "execution_count": null,
   "metadata": {
    "collapsed": true
   },
   "outputs": [],
   "source": []
  },
  {
   "cell_type": "code",
   "execution_count": 207,
   "metadata": {
    "collapsed": true
   },
   "outputs": [],
   "source": [
    "# World population sampled every 10 years since 1960\n",
    "\n",
    "population = pd.read_csv('./data/world_population.csv',\n",
    "                         parse_dates=True, index_col='Year')"
   ]
  },
  {
   "cell_type": "code",
   "execution_count": 208,
   "metadata": {},
   "outputs": [
    {
     "data": {
      "text/html": [
       "<div>\n",
       "<style>\n",
       "    .dataframe thead tr:only-child th {\n",
       "        text-align: right;\n",
       "    }\n",
       "\n",
       "    .dataframe thead th {\n",
       "        text-align: left;\n",
       "    }\n",
       "\n",
       "    .dataframe tbody tr th {\n",
       "        vertical-align: top;\n",
       "    }\n",
       "</style>\n",
       "<table border=\"1\" class=\"dataframe\">\n",
       "  <thead>\n",
       "    <tr style=\"text-align: right;\">\n",
       "      <th></th>\n",
       "      <th>Total Population</th>\n",
       "    </tr>\n",
       "    <tr>\n",
       "      <th>Year</th>\n",
       "      <th></th>\n",
       "    </tr>\n",
       "  </thead>\n",
       "  <tbody>\n",
       "    <tr>\n",
       "      <th>1960-01-01</th>\n",
       "      <td>3.034971e+09</td>\n",
       "    </tr>\n",
       "    <tr>\n",
       "      <th>1970-01-01</th>\n",
       "      <td>3.684823e+09</td>\n",
       "    </tr>\n",
       "    <tr>\n",
       "      <th>1980-01-01</th>\n",
       "      <td>4.436590e+09</td>\n",
       "    </tr>\n",
       "    <tr>\n",
       "      <th>1990-01-01</th>\n",
       "      <td>5.282716e+09</td>\n",
       "    </tr>\n",
       "    <tr>\n",
       "      <th>2000-01-01</th>\n",
       "      <td>6.115974e+09</td>\n",
       "    </tr>\n",
       "    <tr>\n",
       "      <th>2010-01-01</th>\n",
       "      <td>6.924283e+09</td>\n",
       "    </tr>\n",
       "  </tbody>\n",
       "</table>\n",
       "</div>"
      ],
      "text/plain": [
       "            Total Population\n",
       "Year                        \n",
       "1960-01-01      3.034971e+09\n",
       "1970-01-01      3.684823e+09\n",
       "1980-01-01      4.436590e+09\n",
       "1990-01-01      5.282716e+09\n",
       "2000-01-01      6.115974e+09\n",
       "2010-01-01      6.924283e+09"
      ]
     },
     "execution_count": 208,
     "metadata": {},
     "output_type": "execute_result"
    }
   ],
   "source": [
    "population"
   ]
  },
  {
   "cell_type": "code",
   "execution_count": 209,
   "metadata": {},
   "outputs": [
    {
     "data": {
      "text/html": [
       "<div>\n",
       "<style>\n",
       "    .dataframe thead tr:only-child th {\n",
       "        text-align: right;\n",
       "    }\n",
       "\n",
       "    .dataframe thead th {\n",
       "        text-align: left;\n",
       "    }\n",
       "\n",
       "    .dataframe tbody tr th {\n",
       "        vertical-align: top;\n",
       "    }\n",
       "</style>\n",
       "<table border=\"1\" class=\"dataframe\">\n",
       "  <thead>\n",
       "    <tr style=\"text-align: right;\">\n",
       "      <th></th>\n",
       "      <th>Total Population</th>\n",
       "    </tr>\n",
       "    <tr>\n",
       "      <th>Year</th>\n",
       "      <th></th>\n",
       "    </tr>\n",
       "  </thead>\n",
       "  <tbody>\n",
       "    <tr>\n",
       "      <th>1960-12-31</th>\n",
       "      <td>3.034971e+09</td>\n",
       "    </tr>\n",
       "    <tr>\n",
       "      <th>1961-12-31</th>\n",
       "      <td>NaN</td>\n",
       "    </tr>\n",
       "    <tr>\n",
       "      <th>1962-12-31</th>\n",
       "      <td>NaN</td>\n",
       "    </tr>\n",
       "    <tr>\n",
       "      <th>1963-12-31</th>\n",
       "      <td>NaN</td>\n",
       "    </tr>\n",
       "    <tr>\n",
       "      <th>1964-12-31</th>\n",
       "      <td>NaN</td>\n",
       "    </tr>\n",
       "    <tr>\n",
       "      <th>1965-12-31</th>\n",
       "      <td>NaN</td>\n",
       "    </tr>\n",
       "    <tr>\n",
       "      <th>1966-12-31</th>\n",
       "      <td>NaN</td>\n",
       "    </tr>\n",
       "    <tr>\n",
       "      <th>1967-12-31</th>\n",
       "      <td>NaN</td>\n",
       "    </tr>\n",
       "    <tr>\n",
       "      <th>1968-12-31</th>\n",
       "      <td>NaN</td>\n",
       "    </tr>\n",
       "    <tr>\n",
       "      <th>1969-12-31</th>\n",
       "      <td>NaN</td>\n",
       "    </tr>\n",
       "    <tr>\n",
       "      <th>1970-12-31</th>\n",
       "      <td>3.684823e+09</td>\n",
       "    </tr>\n",
       "    <tr>\n",
       "      <th>1971-12-31</th>\n",
       "      <td>NaN</td>\n",
       "    </tr>\n",
       "    <tr>\n",
       "      <th>1972-12-31</th>\n",
       "      <td>NaN</td>\n",
       "    </tr>\n",
       "    <tr>\n",
       "      <th>1973-12-31</th>\n",
       "      <td>NaN</td>\n",
       "    </tr>\n",
       "    <tr>\n",
       "      <th>1974-12-31</th>\n",
       "      <td>NaN</td>\n",
       "    </tr>\n",
       "    <tr>\n",
       "      <th>1975-12-31</th>\n",
       "      <td>NaN</td>\n",
       "    </tr>\n",
       "    <tr>\n",
       "      <th>1976-12-31</th>\n",
       "      <td>NaN</td>\n",
       "    </tr>\n",
       "    <tr>\n",
       "      <th>1977-12-31</th>\n",
       "      <td>NaN</td>\n",
       "    </tr>\n",
       "    <tr>\n",
       "      <th>1978-12-31</th>\n",
       "      <td>NaN</td>\n",
       "    </tr>\n",
       "    <tr>\n",
       "      <th>1979-12-31</th>\n",
       "      <td>NaN</td>\n",
       "    </tr>\n",
       "    <tr>\n",
       "      <th>1980-12-31</th>\n",
       "      <td>4.436590e+09</td>\n",
       "    </tr>\n",
       "    <tr>\n",
       "      <th>1981-12-31</th>\n",
       "      <td>NaN</td>\n",
       "    </tr>\n",
       "    <tr>\n",
       "      <th>1982-12-31</th>\n",
       "      <td>NaN</td>\n",
       "    </tr>\n",
       "    <tr>\n",
       "      <th>1983-12-31</th>\n",
       "      <td>NaN</td>\n",
       "    </tr>\n",
       "    <tr>\n",
       "      <th>1984-12-31</th>\n",
       "      <td>NaN</td>\n",
       "    </tr>\n",
       "    <tr>\n",
       "      <th>1985-12-31</th>\n",
       "      <td>NaN</td>\n",
       "    </tr>\n",
       "    <tr>\n",
       "      <th>1986-12-31</th>\n",
       "      <td>NaN</td>\n",
       "    </tr>\n",
       "    <tr>\n",
       "      <th>1987-12-31</th>\n",
       "      <td>NaN</td>\n",
       "    </tr>\n",
       "    <tr>\n",
       "      <th>1988-12-31</th>\n",
       "      <td>NaN</td>\n",
       "    </tr>\n",
       "    <tr>\n",
       "      <th>1989-12-31</th>\n",
       "      <td>NaN</td>\n",
       "    </tr>\n",
       "    <tr>\n",
       "      <th>1990-12-31</th>\n",
       "      <td>5.282716e+09</td>\n",
       "    </tr>\n",
       "    <tr>\n",
       "      <th>1991-12-31</th>\n",
       "      <td>NaN</td>\n",
       "    </tr>\n",
       "    <tr>\n",
       "      <th>1992-12-31</th>\n",
       "      <td>NaN</td>\n",
       "    </tr>\n",
       "    <tr>\n",
       "      <th>1993-12-31</th>\n",
       "      <td>NaN</td>\n",
       "    </tr>\n",
       "    <tr>\n",
       "      <th>1994-12-31</th>\n",
       "      <td>NaN</td>\n",
       "    </tr>\n",
       "    <tr>\n",
       "      <th>1995-12-31</th>\n",
       "      <td>NaN</td>\n",
       "    </tr>\n",
       "    <tr>\n",
       "      <th>1996-12-31</th>\n",
       "      <td>NaN</td>\n",
       "    </tr>\n",
       "    <tr>\n",
       "      <th>1997-12-31</th>\n",
       "      <td>NaN</td>\n",
       "    </tr>\n",
       "    <tr>\n",
       "      <th>1998-12-31</th>\n",
       "      <td>NaN</td>\n",
       "    </tr>\n",
       "    <tr>\n",
       "      <th>1999-12-31</th>\n",
       "      <td>NaN</td>\n",
       "    </tr>\n",
       "    <tr>\n",
       "      <th>2000-12-31</th>\n",
       "      <td>6.115974e+09</td>\n",
       "    </tr>\n",
       "    <tr>\n",
       "      <th>2001-12-31</th>\n",
       "      <td>NaN</td>\n",
       "    </tr>\n",
       "    <tr>\n",
       "      <th>2002-12-31</th>\n",
       "      <td>NaN</td>\n",
       "    </tr>\n",
       "    <tr>\n",
       "      <th>2003-12-31</th>\n",
       "      <td>NaN</td>\n",
       "    </tr>\n",
       "    <tr>\n",
       "      <th>2004-12-31</th>\n",
       "      <td>NaN</td>\n",
       "    </tr>\n",
       "    <tr>\n",
       "      <th>2005-12-31</th>\n",
       "      <td>NaN</td>\n",
       "    </tr>\n",
       "    <tr>\n",
       "      <th>2006-12-31</th>\n",
       "      <td>NaN</td>\n",
       "    </tr>\n",
       "    <tr>\n",
       "      <th>2007-12-31</th>\n",
       "      <td>NaN</td>\n",
       "    </tr>\n",
       "    <tr>\n",
       "      <th>2008-12-31</th>\n",
       "      <td>NaN</td>\n",
       "    </tr>\n",
       "    <tr>\n",
       "      <th>2009-12-31</th>\n",
       "      <td>NaN</td>\n",
       "    </tr>\n",
       "    <tr>\n",
       "      <th>2010-12-31</th>\n",
       "      <td>6.924283e+09</td>\n",
       "    </tr>\n",
       "  </tbody>\n",
       "</table>\n",
       "</div>"
      ],
      "text/plain": [
       "            Total Population\n",
       "Year                        \n",
       "1960-12-31      3.034971e+09\n",
       "1961-12-31               NaN\n",
       "1962-12-31               NaN\n",
       "1963-12-31               NaN\n",
       "1964-12-31               NaN\n",
       "1965-12-31               NaN\n",
       "1966-12-31               NaN\n",
       "1967-12-31               NaN\n",
       "1968-12-31               NaN\n",
       "1969-12-31               NaN\n",
       "1970-12-31      3.684823e+09\n",
       "1971-12-31               NaN\n",
       "1972-12-31               NaN\n",
       "1973-12-31               NaN\n",
       "1974-12-31               NaN\n",
       "1975-12-31               NaN\n",
       "1976-12-31               NaN\n",
       "1977-12-31               NaN\n",
       "1978-12-31               NaN\n",
       "1979-12-31               NaN\n",
       "1980-12-31      4.436590e+09\n",
       "1981-12-31               NaN\n",
       "1982-12-31               NaN\n",
       "1983-12-31               NaN\n",
       "1984-12-31               NaN\n",
       "1985-12-31               NaN\n",
       "1986-12-31               NaN\n",
       "1987-12-31               NaN\n",
       "1988-12-31               NaN\n",
       "1989-12-31               NaN\n",
       "1990-12-31      5.282716e+09\n",
       "1991-12-31               NaN\n",
       "1992-12-31               NaN\n",
       "1993-12-31               NaN\n",
       "1994-12-31               NaN\n",
       "1995-12-31               NaN\n",
       "1996-12-31               NaN\n",
       "1997-12-31               NaN\n",
       "1998-12-31               NaN\n",
       "1999-12-31               NaN\n",
       "2000-12-31      6.115974e+09\n",
       "2001-12-31               NaN\n",
       "2002-12-31               NaN\n",
       "2003-12-31               NaN\n",
       "2004-12-31               NaN\n",
       "2005-12-31               NaN\n",
       "2006-12-31               NaN\n",
       "2007-12-31               NaN\n",
       "2008-12-31               NaN\n",
       "2009-12-31               NaN\n",
       "2010-12-31      6.924283e+09"
      ]
     },
     "execution_count": 209,
     "metadata": {},
     "output_type": "execute_result"
    }
   ],
   "source": [
    "# Upsample the population\n",
    "# first method returns the first value of every decade\n",
    "\n",
    "population.resample('A').first()"
   ]
  },
  {
   "cell_type": "code",
   "execution_count": 210,
   "metadata": {},
   "outputs": [
    {
     "data": {
      "text/html": [
       "<div>\n",
       "<style>\n",
       "    .dataframe thead tr:only-child th {\n",
       "        text-align: right;\n",
       "    }\n",
       "\n",
       "    .dataframe thead th {\n",
       "        text-align: left;\n",
       "    }\n",
       "\n",
       "    .dataframe tbody tr th {\n",
       "        vertical-align: top;\n",
       "    }\n",
       "</style>\n",
       "<table border=\"1\" class=\"dataframe\">\n",
       "  <thead>\n",
       "    <tr style=\"text-align: right;\">\n",
       "      <th></th>\n",
       "      <th>Total Population</th>\n",
       "    </tr>\n",
       "    <tr>\n",
       "      <th>Year</th>\n",
       "      <th></th>\n",
       "    </tr>\n",
       "  </thead>\n",
       "  <tbody>\n",
       "    <tr>\n",
       "      <th>1960-12-31</th>\n",
       "      <td>3.034971e+09</td>\n",
       "    </tr>\n",
       "    <tr>\n",
       "      <th>1961-12-31</th>\n",
       "      <td>3.099956e+09</td>\n",
       "    </tr>\n",
       "    <tr>\n",
       "      <th>1962-12-31</th>\n",
       "      <td>3.164941e+09</td>\n",
       "    </tr>\n",
       "    <tr>\n",
       "      <th>1963-12-31</th>\n",
       "      <td>3.229926e+09</td>\n",
       "    </tr>\n",
       "    <tr>\n",
       "      <th>1964-12-31</th>\n",
       "      <td>3.294911e+09</td>\n",
       "    </tr>\n",
       "    <tr>\n",
       "      <th>1965-12-31</th>\n",
       "      <td>3.359897e+09</td>\n",
       "    </tr>\n",
       "    <tr>\n",
       "      <th>1966-12-31</th>\n",
       "      <td>3.424882e+09</td>\n",
       "    </tr>\n",
       "    <tr>\n",
       "      <th>1967-12-31</th>\n",
       "      <td>3.489867e+09</td>\n",
       "    </tr>\n",
       "    <tr>\n",
       "      <th>1968-12-31</th>\n",
       "      <td>3.554852e+09</td>\n",
       "    </tr>\n",
       "    <tr>\n",
       "      <th>1969-12-31</th>\n",
       "      <td>3.619837e+09</td>\n",
       "    </tr>\n",
       "    <tr>\n",
       "      <th>1970-12-31</th>\n",
       "      <td>3.684823e+09</td>\n",
       "    </tr>\n",
       "    <tr>\n",
       "      <th>1971-12-31</th>\n",
       "      <td>3.759999e+09</td>\n",
       "    </tr>\n",
       "    <tr>\n",
       "      <th>1972-12-31</th>\n",
       "      <td>3.835176e+09</td>\n",
       "    </tr>\n",
       "    <tr>\n",
       "      <th>1973-12-31</th>\n",
       "      <td>3.910353e+09</td>\n",
       "    </tr>\n",
       "    <tr>\n",
       "      <th>1974-12-31</th>\n",
       "      <td>3.985530e+09</td>\n",
       "    </tr>\n",
       "    <tr>\n",
       "      <th>1975-12-31</th>\n",
       "      <td>4.060707e+09</td>\n",
       "    </tr>\n",
       "    <tr>\n",
       "      <th>1976-12-31</th>\n",
       "      <td>4.135883e+09</td>\n",
       "    </tr>\n",
       "    <tr>\n",
       "      <th>1977-12-31</th>\n",
       "      <td>4.211060e+09</td>\n",
       "    </tr>\n",
       "    <tr>\n",
       "      <th>1978-12-31</th>\n",
       "      <td>4.286237e+09</td>\n",
       "    </tr>\n",
       "    <tr>\n",
       "      <th>1979-12-31</th>\n",
       "      <td>4.361414e+09</td>\n",
       "    </tr>\n",
       "    <tr>\n",
       "      <th>1980-12-31</th>\n",
       "      <td>4.436590e+09</td>\n",
       "    </tr>\n",
       "    <tr>\n",
       "      <th>1981-12-31</th>\n",
       "      <td>4.521203e+09</td>\n",
       "    </tr>\n",
       "    <tr>\n",
       "      <th>1982-12-31</th>\n",
       "      <td>4.605815e+09</td>\n",
       "    </tr>\n",
       "    <tr>\n",
       "      <th>1983-12-31</th>\n",
       "      <td>4.690428e+09</td>\n",
       "    </tr>\n",
       "    <tr>\n",
       "      <th>1984-12-31</th>\n",
       "      <td>4.775041e+09</td>\n",
       "    </tr>\n",
       "    <tr>\n",
       "      <th>1985-12-31</th>\n",
       "      <td>4.859653e+09</td>\n",
       "    </tr>\n",
       "    <tr>\n",
       "      <th>1986-12-31</th>\n",
       "      <td>4.944266e+09</td>\n",
       "    </tr>\n",
       "    <tr>\n",
       "      <th>1987-12-31</th>\n",
       "      <td>5.028878e+09</td>\n",
       "    </tr>\n",
       "    <tr>\n",
       "      <th>1988-12-31</th>\n",
       "      <td>5.113491e+09</td>\n",
       "    </tr>\n",
       "    <tr>\n",
       "      <th>1989-12-31</th>\n",
       "      <td>5.198103e+09</td>\n",
       "    </tr>\n",
       "    <tr>\n",
       "      <th>1990-12-31</th>\n",
       "      <td>5.282716e+09</td>\n",
       "    </tr>\n",
       "    <tr>\n",
       "      <th>1991-12-31</th>\n",
       "      <td>5.366042e+09</td>\n",
       "    </tr>\n",
       "    <tr>\n",
       "      <th>1992-12-31</th>\n",
       "      <td>5.449368e+09</td>\n",
       "    </tr>\n",
       "    <tr>\n",
       "      <th>1993-12-31</th>\n",
       "      <td>5.532694e+09</td>\n",
       "    </tr>\n",
       "    <tr>\n",
       "      <th>1994-12-31</th>\n",
       "      <td>5.616019e+09</td>\n",
       "    </tr>\n",
       "    <tr>\n",
       "      <th>1995-12-31</th>\n",
       "      <td>5.699345e+09</td>\n",
       "    </tr>\n",
       "    <tr>\n",
       "      <th>1996-12-31</th>\n",
       "      <td>5.782671e+09</td>\n",
       "    </tr>\n",
       "    <tr>\n",
       "      <th>1997-12-31</th>\n",
       "      <td>5.865997e+09</td>\n",
       "    </tr>\n",
       "    <tr>\n",
       "      <th>1998-12-31</th>\n",
       "      <td>5.949323e+09</td>\n",
       "    </tr>\n",
       "    <tr>\n",
       "      <th>1999-12-31</th>\n",
       "      <td>6.032649e+09</td>\n",
       "    </tr>\n",
       "    <tr>\n",
       "      <th>2000-12-31</th>\n",
       "      <td>6.115974e+09</td>\n",
       "    </tr>\n",
       "    <tr>\n",
       "      <th>2001-12-31</th>\n",
       "      <td>6.196805e+09</td>\n",
       "    </tr>\n",
       "    <tr>\n",
       "      <th>2002-12-31</th>\n",
       "      <td>6.277636e+09</td>\n",
       "    </tr>\n",
       "    <tr>\n",
       "      <th>2003-12-31</th>\n",
       "      <td>6.358467e+09</td>\n",
       "    </tr>\n",
       "    <tr>\n",
       "      <th>2004-12-31</th>\n",
       "      <td>6.439298e+09</td>\n",
       "    </tr>\n",
       "    <tr>\n",
       "      <th>2005-12-31</th>\n",
       "      <td>6.520129e+09</td>\n",
       "    </tr>\n",
       "    <tr>\n",
       "      <th>2006-12-31</th>\n",
       "      <td>6.600960e+09</td>\n",
       "    </tr>\n",
       "    <tr>\n",
       "      <th>2007-12-31</th>\n",
       "      <td>6.681790e+09</td>\n",
       "    </tr>\n",
       "    <tr>\n",
       "      <th>2008-12-31</th>\n",
       "      <td>6.762621e+09</td>\n",
       "    </tr>\n",
       "    <tr>\n",
       "      <th>2009-12-31</th>\n",
       "      <td>6.843452e+09</td>\n",
       "    </tr>\n",
       "    <tr>\n",
       "      <th>2010-12-31</th>\n",
       "      <td>6.924283e+09</td>\n",
       "    </tr>\n",
       "  </tbody>\n",
       "</table>\n",
       "</div>"
      ],
      "text/plain": [
       "            Total Population\n",
       "Year                        \n",
       "1960-12-31      3.034971e+09\n",
       "1961-12-31      3.099956e+09\n",
       "1962-12-31      3.164941e+09\n",
       "1963-12-31      3.229926e+09\n",
       "1964-12-31      3.294911e+09\n",
       "1965-12-31      3.359897e+09\n",
       "1966-12-31      3.424882e+09\n",
       "1967-12-31      3.489867e+09\n",
       "1968-12-31      3.554852e+09\n",
       "1969-12-31      3.619837e+09\n",
       "1970-12-31      3.684823e+09\n",
       "1971-12-31      3.759999e+09\n",
       "1972-12-31      3.835176e+09\n",
       "1973-12-31      3.910353e+09\n",
       "1974-12-31      3.985530e+09\n",
       "1975-12-31      4.060707e+09\n",
       "1976-12-31      4.135883e+09\n",
       "1977-12-31      4.211060e+09\n",
       "1978-12-31      4.286237e+09\n",
       "1979-12-31      4.361414e+09\n",
       "1980-12-31      4.436590e+09\n",
       "1981-12-31      4.521203e+09\n",
       "1982-12-31      4.605815e+09\n",
       "1983-12-31      4.690428e+09\n",
       "1984-12-31      4.775041e+09\n",
       "1985-12-31      4.859653e+09\n",
       "1986-12-31      4.944266e+09\n",
       "1987-12-31      5.028878e+09\n",
       "1988-12-31      5.113491e+09\n",
       "1989-12-31      5.198103e+09\n",
       "1990-12-31      5.282716e+09\n",
       "1991-12-31      5.366042e+09\n",
       "1992-12-31      5.449368e+09\n",
       "1993-12-31      5.532694e+09\n",
       "1994-12-31      5.616019e+09\n",
       "1995-12-31      5.699345e+09\n",
       "1996-12-31      5.782671e+09\n",
       "1997-12-31      5.865997e+09\n",
       "1998-12-31      5.949323e+09\n",
       "1999-12-31      6.032649e+09\n",
       "2000-12-31      6.115974e+09\n",
       "2001-12-31      6.196805e+09\n",
       "2002-12-31      6.277636e+09\n",
       "2003-12-31      6.358467e+09\n",
       "2004-12-31      6.439298e+09\n",
       "2005-12-31      6.520129e+09\n",
       "2006-12-31      6.600960e+09\n",
       "2007-12-31      6.681790e+09\n",
       "2008-12-31      6.762621e+09\n",
       "2009-12-31      6.843452e+09\n",
       "2010-12-31      6.924283e+09"
      ]
     },
     "execution_count": 210,
     "metadata": {},
     "output_type": "execute_result"
    }
   ],
   "source": [
    "# fills in value with a smooth series\n",
    "\n",
    "population.resample('A').first().interpolate('linear')"
   ]
  },
  {
   "cell_type": "code",
   "execution_count": null,
   "metadata": {
    "collapsed": true
   },
   "outputs": [],
   "source": []
  },
  {
   "cell_type": "markdown",
   "metadata": {},
   "source": [
    "#### Method chaining and filtering\n",
    "\n",
    "We've seen that pandas supports method chaining. This technique can be very powerful when cleaning and filtering data.\n",
    "\n",
    "In this exercise, a DataFrame containing flight departure data for a single airline and a single airport for the month of July 2015 has been pre-loaded. Your job is to use .str() filtering and method chaining to generate summary statistics on flight delays each day to Dallas.\n",
    "\n"
   ]
  },
  {
   "cell_type": "code",
   "execution_count": 211,
   "metadata": {},
   "outputs": [],
   "source": [
    "flights = pd.read_csv('./data/austin_airport_departure_data_2015_july.csv',\n",
    "                      parse_dates=True, index_col='Date (MM/DD/YYYY)')"
   ]
  },
  {
   "cell_type": "code",
   "execution_count": 212,
   "metadata": {},
   "outputs": [],
   "source": [
    "# filter to only flights in July 2015\n",
    "\n",
    "df = flights['2015-07']"
   ]
  },
  {
   "cell_type": "code",
   "execution_count": 213,
   "metadata": {
    "collapsed": true
   },
   "outputs": [],
   "source": [
    "# Strip extra whitespace from the column names: df.columns\n",
    "df.columns = df.columns.str.strip()\n",
    "\n",
    "# Extract data for which the destination airport is Dallas: dallas\n",
    "dallas = df['Destination Airport'].str.contains('DAL')\n",
    "\n",
    "# Compute the total number of Dallas departures each day: daily_departures\n",
    "daily_departures = dallas.resample('D').sum()\n",
    "\n",
    "# Generate the summary statistics for daily Dallas departures: stats\n",
    "stats = daily_departures.describe()"
   ]
  },
  {
   "cell_type": "code",
   "execution_count": 214,
   "metadata": {},
   "outputs": [
    {
     "data": {
      "text/plain": [
       "count    31.000000\n",
       "mean      9.322581\n",
       "std       1.989759\n",
       "min       3.000000\n",
       "25%       9.500000\n",
       "50%      10.000000\n",
       "75%      10.000000\n",
       "max      11.000000\n",
       "Name: Destination Airport, dtype: float64"
      ]
     },
     "execution_count": 214,
     "metadata": {},
     "output_type": "execute_result"
    }
   ],
   "source": [
    "stats"
   ]
  },
  {
   "cell_type": "code",
   "execution_count": null,
   "metadata": {
    "collapsed": true
   },
   "outputs": [],
   "source": []
  },
  {
   "cell_type": "markdown",
   "metadata": {},
   "source": [
    "#### Time zones and conversion\n",
    "\n",
    "Time zone handling with pandas typically assumes that you are handling the Index of the Series. In this exercise, you will learn how to handle timezones that are associated with datetimes in the column data, and not just the Index.\n",
    "\n",
    "You will work with the flight departure dataset again, and this time you will select Los Angeles ('LAX') as the destination airport.\n",
    "\n",
    "Here we will use a mask to ensure that we only compute on data we actually want. To learn more about Boolean masks, click here!"
   ]
  },
  {
   "cell_type": "code",
   "execution_count": 215,
   "metadata": {
    "collapsed": true
   },
   "outputs": [],
   "source": [
    "flights_noindex = pd.read_csv('./data/austin_airport_departure_data_2015_july.csv',\n",
    "                      parse_dates=True)"
   ]
  },
  {
   "cell_type": "code",
   "execution_count": 216,
   "metadata": {
    "collapsed": true
   },
   "outputs": [],
   "source": [
    "flights_noindex.columns = flights_noindex.columns.str.strip()"
   ]
  },
  {
   "cell_type": "code",
   "execution_count": 217,
   "metadata": {},
   "outputs": [],
   "source": [
    "df = flights_noindex"
   ]
  },
  {
   "cell_type": "code",
   "execution_count": 218,
   "metadata": {},
   "outputs": [],
   "source": [
    "# Build a Boolean mask to filter out all the 'LAX' departure flights: mask\n",
    "mask = df['Destination Airport'] == 'LAX'\n",
    "\n",
    "# Use the mask to subset the data: la\n",
    "la = df.loc[mask, :]\n",
    "\n",
    "# Combine two columns of data to create a datetime series: times_tz_none \n",
    "times_tz_none = pd.to_datetime(la['Date (MM/DD/YYYY)'] + ' ' + la['Wheels-off Time'] )"
   ]
  },
  {
   "cell_type": "code",
   "execution_count": 219,
   "metadata": {},
   "outputs": [],
   "source": [
    "# Localize the time to US/Central: times_tz_central\n",
    "times_tz_central = times_tz_none.dt.tz_localize('US/Central')"
   ]
  },
  {
   "cell_type": "code",
   "execution_count": null,
   "metadata": {
    "collapsed": true
   },
   "outputs": [],
   "source": []
  },
  {
   "cell_type": "code",
   "execution_count": null,
   "metadata": {
    "collapsed": true
   },
   "outputs": [],
   "source": []
  },
  {
   "cell_type": "markdown",
   "metadata": {},
   "source": [
    "# Time Series Visualization\n",
    "\n",
    "- Lines Types\n",
    "- Plot Types\n",
    "- Subplots"
   ]
  },
  {
   "cell_type": "code",
   "execution_count": 220,
   "metadata": {
    "collapsed": true
   },
   "outputs": [],
   "source": [
    "import pandas as pd\n",
    "import matplotlib.pyplot as plt\n",
    "\n",
    "sp500 = pd.read_csv('./data/sp500.csv',\n",
    "                    parse_dates=True, index_col='Date')\n"
   ]
  },
  {
   "cell_type": "code",
   "execution_count": 221,
   "metadata": {},
   "outputs": [
    {
     "data": {
      "text/html": [
       "<div>\n",
       "<style>\n",
       "    .dataframe thead tr:only-child th {\n",
       "        text-align: right;\n",
       "    }\n",
       "\n",
       "    .dataframe thead th {\n",
       "        text-align: left;\n",
       "    }\n",
       "\n",
       "    .dataframe tbody tr th {\n",
       "        vertical-align: top;\n",
       "    }\n",
       "</style>\n",
       "<table border=\"1\" class=\"dataframe\">\n",
       "  <thead>\n",
       "    <tr style=\"text-align: right;\">\n",
       "      <th></th>\n",
       "      <th>Open</th>\n",
       "      <th>High</th>\n",
       "      <th>Low</th>\n",
       "      <th>Close</th>\n",
       "      <th>Volume</th>\n",
       "      <th>Adj Close</th>\n",
       "    </tr>\n",
       "    <tr>\n",
       "      <th>Date</th>\n",
       "      <th></th>\n",
       "      <th></th>\n",
       "      <th></th>\n",
       "      <th></th>\n",
       "      <th></th>\n",
       "      <th></th>\n",
       "    </tr>\n",
       "  </thead>\n",
       "  <tbody>\n",
       "    <tr>\n",
       "      <th>2015-01-02</th>\n",
       "      <td>2058.899902</td>\n",
       "      <td>2072.360107</td>\n",
       "      <td>2046.040039</td>\n",
       "      <td>2058.199951</td>\n",
       "      <td>2708700000</td>\n",
       "      <td>2058.199951</td>\n",
       "    </tr>\n",
       "    <tr>\n",
       "      <th>2015-01-05</th>\n",
       "      <td>2054.439941</td>\n",
       "      <td>2054.439941</td>\n",
       "      <td>2017.339966</td>\n",
       "      <td>2020.579956</td>\n",
       "      <td>3799120000</td>\n",
       "      <td>2020.579956</td>\n",
       "    </tr>\n",
       "    <tr>\n",
       "      <th>2015-01-06</th>\n",
       "      <td>2022.150024</td>\n",
       "      <td>2030.250000</td>\n",
       "      <td>1992.439941</td>\n",
       "      <td>2002.609985</td>\n",
       "      <td>4460110000</td>\n",
       "      <td>2002.609985</td>\n",
       "    </tr>\n",
       "    <tr>\n",
       "      <th>2015-01-07</th>\n",
       "      <td>2005.550049</td>\n",
       "      <td>2029.609985</td>\n",
       "      <td>2005.550049</td>\n",
       "      <td>2025.900024</td>\n",
       "      <td>3805480000</td>\n",
       "      <td>2025.900024</td>\n",
       "    </tr>\n",
       "    <tr>\n",
       "      <th>2015-01-08</th>\n",
       "      <td>2030.609985</td>\n",
       "      <td>2064.080078</td>\n",
       "      <td>2030.609985</td>\n",
       "      <td>2062.139893</td>\n",
       "      <td>3934010000</td>\n",
       "      <td>2062.139893</td>\n",
       "    </tr>\n",
       "  </tbody>\n",
       "</table>\n",
       "</div>"
      ],
      "text/plain": [
       "                   Open         High          Low        Close      Volume  \\\n",
       "Date                                                                         \n",
       "2015-01-02  2058.899902  2072.360107  2046.040039  2058.199951  2708700000   \n",
       "2015-01-05  2054.439941  2054.439941  2017.339966  2020.579956  3799120000   \n",
       "2015-01-06  2022.150024  2030.250000  1992.439941  2002.609985  4460110000   \n",
       "2015-01-07  2005.550049  2029.609985  2005.550049  2025.900024  3805480000   \n",
       "2015-01-08  2030.609985  2064.080078  2030.609985  2062.139893  3934010000   \n",
       "\n",
       "              Adj Close  \n",
       "Date                     \n",
       "2015-01-02  2058.199951  \n",
       "2015-01-05  2020.579956  \n",
       "2015-01-06  2002.609985  \n",
       "2015-01-07  2025.900024  \n",
       "2015-01-08  2062.139893  "
      ]
     },
     "execution_count": 221,
     "metadata": {},
     "output_type": "execute_result"
    }
   ],
   "source": [
    "sp500.head()"
   ]
  },
  {
   "cell_type": "code",
   "execution_count": null,
   "metadata": {
    "collapsed": true
   },
   "outputs": [],
   "source": []
  },
  {
   "cell_type": "markdown",
   "metadata": {},
   "source": [
    "## Pandas Plot\n"
   ]
  },
  {
   "cell_type": "markdown",
   "metadata": {},
   "source": [
    "#### More Plot Styles\n",
    "\n",
    "Style format string\n",
    "- color (k: black)\n",
    "- marker (.: dot)\n",
    "- line type (-: solid line)"
   ]
  },
  {
   "cell_type": "code",
   "execution_count": 222,
   "metadata": {},
   "outputs": [
    {
     "data": {
      "image/png": "[encoded data removed]",
      "text/plain": [
       "<matplotlib.figure.Figure at 0x11116dcc0>"
      ]
     },
     "metadata": {},
     "output_type": "display_data"
    }
   ],
   "source": [
    "# change up the Style from default blue line\n",
    "\n",
    "sp500['Close'].plot(style='k.-',\n",
    "                    title='S&P 500')\n",
    "\n",
    "plt.ylabel('Closing Price (US Dollars)')\n",
    "\n",
    "plt.show()"
   ]
  },
  {
   "cell_type": "code",
   "execution_count": 223,
   "metadata": {},
   "outputs": [
    {
     "data": {
      "image/png": "[encoded data removed]",
      "text/plain": [
       "<matplotlib.figure.Figure at 0x111792a90>"
      ]
     },
     "metadata": {},
     "output_type": "display_data"
    }
   ],
   "source": [
    "## Area Plot\n",
    "\n",
    "sp500['Close'].plot(kind='area', title='S&P 500')\n",
    "\n",
    "plt.ylabel('Closing Price (US Dollars)')\n",
    "\n",
    "plt.show()"
   ]
  },
  {
   "cell_type": "code",
   "execution_count": 224,
   "metadata": {},
   "outputs": [
    {
     "data": {
      "image/png": "[encoded data removed]",
      "text/plain": [
       "<matplotlib.figure.Figure at 0x119e27b38>"
      ]
     },
     "metadata": {},
     "output_type": "display_data"
    }
   ],
   "source": [
    "# Plot multiple columns at once\n",
    "\n",
    "sp500.loc['2015', ['Close', 'Volume']].plot()\n",
    "\n",
    "plt.show()"
   ]
  },
  {
   "cell_type": "code",
   "execution_count": 225,
   "metadata": {},
   "outputs": [
    {
     "data": {
      "image/png": "[encoded data removed]",
      "text/plain": [
       "<matplotlib.figure.Figure at 0x119da3518>"
      ]
     },
     "metadata": {},
     "output_type": "display_data"
    }
   ],
   "source": [
    "# Plot multiple columns in two subplots\n",
    "\n",
    "sp500.loc['2015', ['Close', 'Volume']].plot(subplots=True)\n",
    "\n",
    "plt.show()"
   ]
  },
  {
   "cell_type": "code",
   "execution_count": null,
   "metadata": {
    "collapsed": true
   },
   "outputs": [],
   "source": []
  },
  {
   "cell_type": "markdown",
   "metadata": {},
   "source": [
    "#### Plotting time series, datetime indexing\n",
    "\n",
    "Pandas handles datetimes not only in your data, but also in your plotting.\n",
    "\n",
    "In this exercise, some time series data has been pre-loaded. However, we have not parsed the date-like columns nor set the index, as we have done for you in the past!\n",
    "\n",
    "The plot displayed is how pandas renders data with the default integer/positional index. Your job is to convert the 'Date' column from a collection of strings into a collection of datetime objects. Then, you will use this converted 'Date' column as your new index, and re-plot the data, noting the improved datetime awareness. After you are done, you can cycle between the two plots you generated by clicking on the 'Previous Plot' and 'Next Plot' buttons.\n",
    "\n",
    "Before proceeding, look at the plot shown and observe how pandas handles data with the default integer index. Then, inspect the DataFrame df using the .head() method in the IPython Shell to get a feel for its structure."
   ]
  },
  {
   "cell_type": "code",
   "execution_count": 228,
   "metadata": {},
   "outputs": [],
   "source": [
    "weather_noindex = pd.read_csv('./data/weather_data_austin_2010.csv',\n",
    "                      parse_dates=True)"
   ]
  },
  {
   "cell_type": "code",
   "execution_count": 229,
   "metadata": {
    "collapsed": true
   },
   "outputs": [],
   "source": [
    "df = weather_noindex"
   ]
  },
  {
   "cell_type": "code",
   "execution_count": 230,
   "metadata": {},
   "outputs": [
    {
     "data": {
      "image/png": "[encoded data removed]",
      "text/plain": [
       "<matplotlib.figure.Figure at 0x119d945f8>"
      ]
     },
     "metadata": {},
     "output_type": "display_data"
    },
    {
     "data": {
      "image/png": "[encoded data removed]",
      "text/plain": [
       "<matplotlib.figure.Figure at 0x119e569b0>"
      ]
     },
     "metadata": {},
     "output_type": "display_data"
    }
   ],
   "source": [
    "# Plot the raw data before setting the datetime index\n",
    "df.plot()\n",
    "plt.show()\n",
    "\n",
    "# Convert the 'Date' column into a collection of datetime objects: df.Date\n",
    "df.Date = pd.to_datetime(df.Date)\n",
    "\n",
    "\n",
    "# Set the index to be the converted 'Date' column\n",
    "df.set_index('Date', inplace=True)\n",
    "\n",
    "\n",
    "# Re-plot the DataFrame to see that the axis is now datetime aware!\n",
    "df.plot()\n",
    "plt.show()"
   ]
  },
  {
   "cell_type": "markdown",
   "metadata": {},
   "source": [
    "#### Plotting date ranges, partial indexing\n",
    "\n",
    "Now that you have set the DatetimeIndex in your DataFrame, you have a much more powerful and flexible set of tools to use when plotting your time series data. Of these, one of the most convenient is partial string indexing and slicing. In this exercise, we've pre-loaded a full year of Austin 2010 weather data, with the index set to be the datetime parsed 'Date' column as shown in the previous exercise.\n",
    "\n",
    "Your job is to use partial string indexing of the dates, in a variety of datetime string formats, to plot all the summer data and just one week of data together. After you are done, you can cycle between the two plots by clicking on the 'Previous Plot' and 'Next Plot' buttons.\n",
    "\n",
    "First, remind yourself how to extract one month of temperature data using 'May 2010' as a key into df.Temperature[], and call head() to inspect the result: df.Temperature['May 2010'].head()"
   ]
  },
  {
   "cell_type": "code",
   "execution_count": 237,
   "metadata": {},
   "outputs": [],
   "source": [
    "df = df['2010']"
   ]
  },
  {
   "cell_type": "code",
   "execution_count": 238,
   "metadata": {},
   "outputs": [
    {
     "data": {
      "image/png": "[encoded data removed]",
      "text/plain": [
       "<matplotlib.figure.Figure at 0x119e27080>"
      ]
     },
     "metadata": {},
     "output_type": "display_data"
    },
    {
     "data": {
      "image/png": "[encoded data removed]",
      "text/plain": [
       "<matplotlib.figure.Figure at 0x11117fba8>"
      ]
     },
     "metadata": {},
     "output_type": "display_data"
    }
   ],
   "source": [
    "# Plot the summer data\n",
    "df.Temperature['2010-Jun':'2010-Aug'].plot()\n",
    "plt.show()\n",
    "plt.clf()\n",
    "\n",
    "# Plot the one week data\n",
    "df.Temperature['2010-06-10':'2010-06-17'].plot()\n",
    "plt.show()\n",
    "plt.clf()\n"
   ]
  },
  {
   "cell_type": "code",
   "execution_count": null,
   "metadata": {
    "collapsed": true
   },
   "outputs": [],
   "source": []
  }
 ],
 "metadata": {
  "kernelspec": {
   "display_name": "Python 3",
   "language": "python",
   "name": "python3"
  },
  "language_info": {
   "codemirror_mode": {
    "name": "ipython",
    "version": 3
   },
   "file_extension": ".py",
   "mimetype": "text/x-python",
   "name": "python",
   "nbconvert_exporter": "python",
   "pygments_lexer": "ipython3",
   "version": "3.6.3"
  }
 },
 "nbformat": 4,
 "nbformat_minor": 2
}
